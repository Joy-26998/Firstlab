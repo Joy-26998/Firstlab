{
  "nbformat": 4,
  "nbformat_minor": 0,
  "metadata": {
    "colab": {
      "provenance": [],
      "authorship_tag": "ABX9TyNxC1tqqrYOWsysRBBLO2Ts",
      "include_colab_link": true
    },
    "kernelspec": {
      "name": "python3",
      "display_name": "Python 3"
    },
    "language_info": {
      "name": "python"
    }
  },
  "cells": [
    {
      "cell_type": "markdown",
      "metadata": {
        "id": "view-in-github",
        "colab_type": "text"
      },
      "source": [
        "<a href=\"https://colab.research.google.com/github/Joy-26998/Firstlab/blob/main/hw_week_1.ipynb\" target=\"_parent\"><img src=\"https://colab.research.google.com/assets/colab-badge.svg\" alt=\"Open In Colab\"/></a>"
      ]
    },
    {
      "cell_type": "markdown",
      "source": [
        "**Extra Practices, Number 3**"
      ],
      "metadata": {
        "id": "PHa5GQbHGsH6"
      }
    },
    {
      "cell_type": "code",
      "source": [
        "def isEvenPositiveInt(x):\n",
        "    try:\n",
        "        if isinstance(x, int) and x > 0:\n",
        "            return x % 2 == 0\n",
        "        else:\n",
        "            return False\n",
        "    except TypeError:\n",
        "        return False\n",
        "\n",
        "\n",
        "print(isEvenPositiveInt(\"yikes!\"))  # Output: False\n",
        "print(isEvenPositiveInt(123456))     # Output: True\n"
      ],
      "metadata": {
        "colab": {
          "base_uri": "https://localhost:8080/"
        },
        "id": "2MXdClhWGufO",
        "outputId": "0d1200d5-6148-49b4-9f4f-9c08753ddcb7"
      },
      "execution_count": null,
      "outputs": [
        {
          "output_type": "stream",
          "name": "stdout",
          "text": [
            "False\n",
            "True\n"
          ]
        }
      ]
    },
    {
      "cell_type": "markdown",
      "source": [
        "**Extra Practices, Number 4**"
      ],
      "metadata": {
        "id": "RTre4h-kHcaT"
      }
    },
    {
      "cell_type": "code",
      "source": [
        "def nthFibonacciNumber(n):\n",
        "    if n == 0:\n",
        "        return 0\n",
        "    elif n == 1:\n",
        "        return 1\n",
        "    else:\n",
        "        fib = [0, 1]\n",
        "        for i in range(2, n + 1):\n",
        "            fib.append(fib[i - 1] + fib[i - 2])\n",
        "        return fib[n]\n",
        "\n",
        "\n",
        "print(nthFibonacciNumber(0))  # Output: 0\n",
        "print(nthFibonacciNumber(1))  # Output: 1\n",
        "print(nthFibonacciNumber(2))  # Output: 1\n",
        "print(nthFibonacciNumber(3))  # Output: 2\n",
        "print(nthFibonacciNumber(4))  # Output: 3\n",
        "print(nthFibonacciNumber(5))  # Output: 5\n"
      ],
      "metadata": {
        "colab": {
          "base_uri": "https://localhost:8080/"
        },
        "id": "FeQkGZOcHerW",
        "outputId": "4f986d64-8bd2-4198-c36d-a6e232d74d94"
      },
      "execution_count": null,
      "outputs": [
        {
          "output_type": "stream",
          "name": "stdout",
          "text": [
            "0\n",
            "1\n",
            "1\n",
            "2\n",
            "3\n",
            "5\n"
          ]
        }
      ]
    },
    {
      "cell_type": "markdown",
      "source": [
        "**Extra Practices, Number 5**"
      ],
      "metadata": {
        "id": "uesVsj2JHz7x"
      }
    },
    {
      "cell_type": "code",
      "source": [
        "def isLegalTriangle(s1, s2, s3):\n",
        "    # Check if all sides are positive\n",
        "    if s1 <= 0 or s2 <= 0 or s3 <= 0:\n",
        "        return False\n",
        "\n",
        "    # Check triangle inequality\n",
        "    return s1 + s2 > s3 and s2 + s3 > s1 and s1 + s3 > s2\n",
        "\n",
        "print(isLegalTriangle(3, 4, 5))   # Output: True\n",
        "print(isLegalTriangle(1, 1, 3))   # Output: False\n",
        "print(isLegalTriangle(5, 5, 5))   # Output: True (equilateral triangle)\n",
        "print(isLegalTriangle(5, 5, 15))  # Output: False\n"
      ],
      "metadata": {
        "colab": {
          "base_uri": "https://localhost:8080/"
        },
        "id": "gMT-4ThxH1X9",
        "outputId": "1264493a-a72c-4a28-ab5a-c14e141c5da8"
      },
      "execution_count": null,
      "outputs": [
        {
          "output_type": "stream",
          "name": "stdout",
          "text": [
            "True\n",
            "False\n",
            "True\n",
            "False\n"
          ]
        }
      ]
    },
    {
      "cell_type": "markdown",
      "source": [
        "**Extra Practices, Number 6**"
      ],
      "metadata": {
        "id": "NXsQSbwfIuDA"
      }
    },
    {
      "cell_type": "code",
      "source": [
        "def distance(x1, y1, x2, y2):\n",
        "    return ((x2 - x1) ** 2 + (y2 - y1) ** 2) ** 0.5\n",
        "\n",
        "def almostEqual(a, b, tolerance=1e-9):\n",
        "    return abs(a - b) < tolerance\n",
        "\n",
        "def isRightTriangle(x1, y1, x2, y2, x3, y3):\n",
        "    # Calculate distances between points\n",
        "    a = distance(x1, y1, x2, y2)\n",
        "    b = distance(x2, y2, x3, y3)\n",
        "    c = distance(x3, y3, x1, y1)\n",
        "\n",
        "    # Check Pythagoras' theorem\n",
        "    return (almostEqual(a**2, b**2 + c**2) or\n",
        "            almostEqual(b**2, a**2 + c**2) or\n",
        "            almostEqual(c**2, a**2 + b**2))\n",
        "\n",
        "print(isRightTriangle(0, 0, 0, 1, 1, 0))  # Output: True\n",
        "print(isRightTriangle(0, 0, 1, 2, 3, 0))  # Output: False\n"
      ],
      "metadata": {
        "colab": {
          "base_uri": "https://localhost:8080/"
        },
        "id": "O86mB5NmIvpn",
        "outputId": "38902934-a223-4739-9d82-5667f1d36866"
      },
      "execution_count": null,
      "outputs": [
        {
          "output_type": "stream",
          "name": "stdout",
          "text": [
            "True\n",
            "False\n"
          ]
        }
      ]
    },
    {
      "cell_type": "markdown",
      "source": [
        "Part A"
      ],
      "metadata": {
        "id": "rlUAqAoDI7v5"
      }
    },
    {
      "cell_type": "markdown",
      "source": [
        "distance(x1, y1, x2, y2)"
      ],
      "metadata": {
        "id": "ZGG0ldrXjvJa"
      }
    },
    {
      "cell_type": "code",
      "source": [
        "import math\n",
        "\n",
        "def distance(x1, y1, x2, y2):\n",
        "    return math.sqrt((x2 - x1) ** 2 + (y2 - y1) ** 2)\n",
        "\n",
        "dist = distance(1, 2, 4, 6)\n",
        "print(dist)\n"
      ],
      "metadata": {
        "colab": {
          "base_uri": "https://localhost:8080/"
        },
        "id": "T9jwFK9gj8Rg",
        "outputId": "f563ce27-be5c-422f-f78c-97f6b41eedaa"
      },
      "execution_count": 5,
      "outputs": [
        {
          "output_type": "stream",
          "name": "stdout",
          "text": [
            "5.0\n"
          ]
        }
      ]
    },
    {
      "cell_type": "markdown",
      "source": [
        "Question 2 : **circlesIntersect(x1, y1, r1, x2, y2, r2)**"
      ],
      "metadata": {
        "id": "DCXjdK1DkJKN"
      }
    },
    {
      "cell_type": "code",
      "source": [
        "import math\n",
        "\n",
        "def circlesIntersect(x1, y1, r1, x2, y2, r2):\n",
        "    # Calculate the distance between the centers\n",
        "    distance = math.sqrt((x2 - x1) ** 2 + (y2 - y1) ** 2)\n",
        "\n",
        "    # Check for intersection\n",
        "    return abs(r1 - r2) <= distance <= (r1 + r2)\n",
        "\n",
        "intersect = circlesIntersect(0, 0, 5, 8, 0, 5)\n",
        "print(intersect)\n"
      ],
      "metadata": {
        "colab": {
          "base_uri": "https://localhost:8080/"
        },
        "id": "BG8cv7KPkQ6R",
        "outputId": "8d1e4e10-61e9-46ae-b354-5528a049062a"
      },
      "execution_count": 4,
      "outputs": [
        {
          "output_type": "stream",
          "name": "stdout",
          "text": [
            "True\n"
          ]
        }
      ]
    },
    {
      "cell_type": "markdown",
      "source": [
        "Question 3: **getInRange(x, bound1, bound2) **"
      ],
      "metadata": {
        "id": "bOK2h7NnlIWr"
      }
    },
    {
      "cell_type": "code",
      "source": [
        "def getInRange(x, bound1, bound2):\n",
        "    # Determine the lower and upper bounds\n",
        "    lower_bound = min(bound1, bound2)\n",
        "    upper_bound = max(bound1, bound2)\n",
        "\n",
        "    # Check and return the appropriate value\n",
        "    if x < lower_bound:\n",
        "        return lower_bound\n",
        "    elif x > upper_bound:\n",
        "        return upper_bound\n",
        "    else:\n",
        "        return x\n",
        "\n",
        "\n",
        "print(getInRange(1, 3, 5))\n",
        "print(getInRange(4, 3, 5))\n",
        "print(getInRange(6, 3, 5))\n",
        "print(getInRange(6, 5, 3))\n"
      ],
      "metadata": {
        "colab": {
          "base_uri": "https://localhost:8080/"
        },
        "id": "hqhHGCaalVyF",
        "outputId": "db1ed4bd-6cce-4e7b-e63f-b9f84bcefaf5"
      },
      "execution_count": 6,
      "outputs": [
        {
          "output_type": "stream",
          "name": "stdout",
          "text": [
            "3\n",
            "4\n",
            "5\n",
            "5\n"
          ]
        }
      ]
    },
    {
      "cell_type": "markdown",
      "source": [
        "Question 4:**eggCartons(eggs)**"
      ],
      "metadata": {
        "id": "k7t1YMNHlyFH"
      }
    },
    {
      "cell_type": "code",
      "source": [
        "import math\n",
        "\n",
        "def eggCartons(eggs):\n",
        "    # Calculate the number of cartons required\n",
        "    return math.ceil(eggs / 12)\n",
        "\n",
        "\n",
        "print(eggCartons(0))\n",
        "print(eggCartons(1))\n",
        "print(eggCartons(12))\n",
        "print(eggCartons(13))\n",
        "print(eggCartons(24))\n",
        "print(eggCartons(25))\n"
      ],
      "metadata": {
        "colab": {
          "base_uri": "https://localhost:8080/"
        },
        "id": "j4VHOvY3l4Q7",
        "outputId": "06ded74c-4610-4cab-e40c-578a6d465a84"
      },
      "execution_count": 7,
      "outputs": [
        {
          "output_type": "stream",
          "name": "stdout",
          "text": [
            "0\n",
            "1\n",
            "1\n",
            "2\n",
            "2\n",
            "3\n"
          ]
        }
      ]
    },
    {
      "cell_type": "markdown",
      "source": [
        "Question 5: **pascalsTriangleValue(row, col)**"
      ],
      "metadata": {
        "id": "pDlrLEbQmU8z"
      }
    },
    {
      "cell_type": "code",
      "source": [
        "import math\n",
        "\n",
        "def pascalsTriangleValue(row, col):\n",
        "    if row < 0 or col < 0 or col > row:\n",
        "        return None\n",
        "    value = math.factorial(row) // (math.factorial(col) * math.factorial(row - col))\n",
        "    return value\n",
        "\n",
        "print(pascalsTriangleValue(0, 0))\n",
        "print(pascalsTriangleValue(1, 0))\n",
        "print(pascalsTriangleValue(1, 1))\n",
        "print(pascalsTriangleValue(4, 2))\n",
        "print(pascalsTriangleValue(5, 2))\n",
        "print(pascalsTriangleValue(5, 6))\n"
      ],
      "metadata": {
        "colab": {
          "base_uri": "https://localhost:8080/"
        },
        "id": "foNSBhlwmbZS",
        "outputId": "6e83fe5f-ed4d-4f8d-a10d-254525abb3fe"
      },
      "execution_count": 8,
      "outputs": [
        {
          "output_type": "stream",
          "name": "stdout",
          "text": [
            "1\n",
            "1\n",
            "1\n",
            "6\n",
            "10\n",
            "None\n"
          ]
        }
      ]
    },
    {
      "cell_type": "markdown",
      "source": [
        "Question 6: **getKthDigit(n, k) **"
      ],
      "metadata": {
        "id": "7QCAbEbMm5rA"
      }
    },
    {
      "cell_type": "code",
      "source": [
        "def getKthDigit(n, k):\n",
        "    # Convert the number to its absolute value and then to string\n",
        "    num_str = str(abs(n))\n",
        "    # Reverse the string to count from the right\n",
        "    num_str = num_str[::-1]\n",
        "\n",
        "    # Check if k is within the length of the string\n",
        "    if k < len(num_str):\n",
        "        return int(num_str[k])\n",
        "    else:\n",
        "        return 0\n",
        "\n",
        "\n",
        "print(getKthDigit(789, 0))\n",
        "print(getKthDigit(789, 1))\n",
        "print(getKthDigit(789, 2))\n",
        "print(getKthDigit(789, 3))\n",
        "print(getKthDigit(-789, 0))\n"
      ],
      "metadata": {
        "colab": {
          "base_uri": "https://localhost:8080/"
        },
        "id": "Wjf5FQIYm_jz",
        "outputId": "30836563-23a6-4b33-8b1a-812c12b57238"
      },
      "execution_count": 9,
      "outputs": [
        {
          "output_type": "stream",
          "name": "stdout",
          "text": [
            "9\n",
            "8\n",
            "7\n",
            "0\n",
            "9\n"
          ]
        }
      ]
    },
    {
      "cell_type": "markdown",
      "source": [
        "Question 7: **setKthDigit(n, k, d)**"
      ],
      "metadata": {
        "id": "AUkAfZP4nYXC"
      }
    },
    {
      "cell_type": "code",
      "source": [
        "def setKthDigit(n, k, d):\n",
        "    # Handle the sign and work with the absolute value of n\n",
        "    sign = -1 if n < 0 else 1\n",
        "    num_str = str(abs(n))\n",
        "\n",
        "    # Reverse the string to make the rightmost digit at the start\n",
        "    num_str = num_str[::-1]\n",
        "\n",
        "    # Pad the string with zeros if k is beyond the length of the string\n",
        "    if k >= len(num_str):\n",
        "        num_str += '0' * (k - len(num_str) + 1)\n",
        "\n",
        "    # Replace the k-th digit\n",
        "    num_str = num_str[:k] + str(d) + num_str[k+1:]\n",
        "\n",
        "    # Reverse the string back to its original order\n",
        "    num_str = num_str[::-1]\n",
        "\n",
        "    # Convert back to integer and restore the sign\n",
        "    result = int(num_str) * sign\n",
        "\n",
        "    return result\n",
        "\n",
        "\n",
        "print(setKthDigit(468, 0, 1))\n",
        "print(setKthDigit(468, 1, 1))\n",
        "print(setKthDigit(468, 2, 1))\n",
        "print(setKthDigit(468, 3, 1))\n",
        "print(setKthDigit(-468, 0, 1))\n"
      ],
      "metadata": {
        "colab": {
          "base_uri": "https://localhost:8080/"
        },
        "id": "baJ8rVoqndUu",
        "outputId": "e23b4c56-9a6e-4f1f-867a-51bf79b79132"
      },
      "execution_count": 10,
      "outputs": [
        {
          "output_type": "stream",
          "name": "stdout",
          "text": [
            "461\n",
            "418\n",
            "168\n",
            "1468\n",
            "-461\n"
          ]
        }
      ]
    },
    {
      "cell_type": "markdown",
      "source": [
        "**Part B**"
      ],
      "metadata": {
        "id": "z7yZuDs3oAh1"
      }
    },
    {
      "cell_type": "markdown",
      "source": [
        "Question 9:** nearestOdd(n)**"
      ],
      "metadata": {
        "id": "f2-pio0coFIE"
      }
    },
    {
      "cell_type": "code",
      "source": [
        "def nearestOdd(n):\n",
        "    # Convert to integer\n",
        "    n_int = int(n)\n",
        "\n",
        "    # If n_int is already odd, return it\n",
        "    if n_int % 2 != 0:\n",
        "        return n_int\n",
        "\n",
        "    # Otherwise, n_int is even, find the nearest odd numbers\n",
        "    lower_odd = n_int - 1\n",
        "    upper_odd = n_int + 1\n",
        "\n",
        "    # Determine which is closer or return the smaller one in case of a tie\n",
        "    if abs(n - lower_odd) <= abs(upper_odd - n):\n",
        "        return lower_odd\n",
        "    else:\n",
        "        return upper_odd\n",
        "\n",
        "# Example usage:\n",
        "print(nearestOdd(13.0))\n",
        "print(nearestOdd(12.0))\n",
        "print(nearestOdd(12.5))\n",
        "print(nearestOdd(11.5))\n",
        "print(nearestOdd(-12.5))\n",
        "print(nearestOdd(-11.5))\n"
      ],
      "metadata": {
        "colab": {
          "base_uri": "https://localhost:8080/"
        },
        "id": "5GPwJ1B0oVpU",
        "outputId": "c0ebb345-ff91-4668-fbe0-99a85fb524e6"
      },
      "execution_count": 12,
      "outputs": [
        {
          "output_type": "stream",
          "name": "stdout",
          "text": [
            "13\n",
            "11\n",
            "13\n",
            "11\n",
            "-13\n",
            "-11\n"
          ]
        }
      ]
    },
    {
      "cell_type": "markdown",
      "source": [
        "Question 10: **numberOfPoolBalls(rows) **"
      ],
      "metadata": {
        "id": "IWt6UNW0ooQR"
      }
    },
    {
      "cell_type": "code",
      "source": [
        "def numberOfPoolBalls(rows):\n",
        "    # Calculate the nth triangular number\n",
        "    total_balls = rows * (rows + 1) // 2\n",
        "    return total_balls\n",
        "\n",
        "\n",
        "print(numberOfPoolBalls(3))"
      ],
      "metadata": {
        "colab": {
          "base_uri": "https://localhost:8080/"
        },
        "id": "aom1mY-uoxOr",
        "outputId": "a513441a-d223-4636-c207-57ff7c09cd22"
      },
      "execution_count": 13,
      "outputs": [
        {
          "output_type": "stream",
          "name": "stdout",
          "text": [
            "6\n"
          ]
        }
      ]
    },
    {
      "cell_type": "markdown",
      "source": [
        "Question 11: **numberOfPoolBallRows(balls) **\n",
        "\n",
        "\n",
        "\n"
      ],
      "metadata": {
        "id": "CazduD-FpTtH"
      }
    },
    {
      "cell_type": "code",
      "source": [
        "def numberOfPoolBallRows(balls):\n",
        "    # Initialize variables\n",
        "    rows = 1\n",
        "    total_balls = 0\n",
        "\n",
        "    # Increment rows until the total balls exceed or equal the given number of balls\n",
        "    while total_balls < balls:\n",
        "        total_balls += rows\n",
        "        rows += 1\n",
        "\n",
        "    return rows - 1  # Subtract 1 because the loop exits after incrementing rows once more than needed\n",
        "\n",
        "\n",
        "print(numberOfPoolBallRows(6))\n",
        "print(numberOfPoolBallRows(7))\n"
      ],
      "metadata": {
        "colab": {
          "base_uri": "https://localhost:8080/"
        },
        "id": "9z03qGmPpgLQ",
        "outputId": "c8a9309a-faf1-4ab8-c75f-ff06de9f4668"
      },
      "execution_count": 14,
      "outputs": [
        {
          "output_type": "stream",
          "name": "stdout",
          "text": [
            "3\n",
            "4\n"
          ]
        }
      ]
    },
    {
      "cell_type": "markdown",
      "source": [
        "Question 12:** colorBlender(rgb1, rgb2, midpoints, n) **"
      ],
      "metadata": {
        "id": "AYE6KyB0ps_1"
      }
    },
    {
      "cell_type": "code",
      "source": [
        "def colorBlender(rgb1, rgb2, midpoints, n):\n",
        "    # Decode the RGB values into separate components\n",
        "    r1, g1, b1 = rgb1 // 1000000, (rgb1 // 1000) % 1000, rgb1 % 1000\n",
        "    r2, g2, b2 = rgb2 // 1000000, (rgb2 // 1000) % 1000, rgb2 % 1000\n",
        "\n",
        "    # Calculate step size for each color component\n",
        "    r_step = (r2 - r1) / (midpoints + 1)\n",
        "    g_step = (g2 - g1) / (midpoints + 1)\n",
        "    b_step = (b2 - b1) / (midpoints + 1)\n",
        "\n",
        "    # Calculate the RGB components of the nth color\n",
        "    r_n = roundHalfUp(r1 + r_step * (n + 1))\n",
        "    g_n = roundHalfUp(g1 + g_step * (n + 1))\n",
        "    b_n = roundHalfUp(b1 + b_step * (n + 1))\n",
        "\n",
        "    # Encode the RGB components into a single integer\n",
        "    result = r_n * 1000000 + g_n * 1000 + b_n\n",
        "\n",
        "    return result if 0 <= n <= midpoints + 1 else None\n",
        "\n",
        "# Helper function for rounding to nearest integer\n",
        "def roundHalfUp(n):\n",
        "    return int(n + 0.5)\n",
        "\n",
        "print(colorBlender(220020060, 189252201, 3, 1))\n"
      ],
      "metadata": {
        "colab": {
          "base_uri": "https://localhost:8080/"
        },
        "id": "Nq7TcltdpzZ-",
        "outputId": "f6dab1e1-916b-4ba3-f89b-8349e9930db0"
      },
      "execution_count": 15,
      "outputs": [
        {
          "output_type": "stream",
          "name": "stdout",
          "text": [
            "205136131\n"
          ]
        }
      ]
    },
    {
      "cell_type": "markdown",
      "source": [],
      "metadata": {
        "id": "p6wNFrS0zI57"
      }
    },
    {
      "cell_type": "markdown",
      "source": [],
      "metadata": {
        "id": "3Z1jILcnI-kB"
      }
    }
  ]
}