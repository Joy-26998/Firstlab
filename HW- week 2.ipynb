{
 "cells": [
  {
   "cell_type": "markdown",
   "id": "ccda3efc",
   "metadata": {},
   "source": [
    "#  Quiz 1 Q1"
   ]
  },
  {
   "cell_type": "markdown",
   "id": "8f83c09d",
   "metadata": {},
   "source": [
    "# Output"
   ]
  },
  {
   "cell_type": "code",
   "execution_count": null,
   "id": "7f303ce0",
   "metadata": {},
   "outputs": [],
   "source": [
    "0\n",
    "12\n",
    "16\n",
    "8"
   ]
  },
  {
   "cell_type": "markdown",
   "id": "1503ce75",
   "metadata": {},
   "source": [
    "# Q1 Q2"
   ]
  },
  {
   "cell_type": "markdown",
   "id": "28d54ac7",
   "metadata": {},
   "source": [
    "# Output"
   ]
  },
  {
   "cell_type": "code",
   "execution_count": null,
   "id": "897d2069",
   "metadata": {},
   "outputs": [],
   "source": [
    "f(15)\n",
    "30\n",
    "20\n",
    "4"
   ]
  },
  {
   "cell_type": "markdown",
   "id": "1244dbd7",
   "metadata": {},
   "source": [
    "# Q1 Q3"
   ]
  },
  {
   "cell_type": "markdown",
   "id": "75b42670",
   "metadata": {},
   "source": [
    "# Output"
   ]
  },
  {
   "cell_type": "code",
   "execution_count": null,
   "id": "e65de60f",
   "metadata": {},
   "outputs": [],
   "source": [
    "def count_digits(n, count=0):\n",
    "    if n == 0:\n",
    "        return count\n",
    "    return count_digits(n // 10, count + 1)\n",
    "\n",
    "def isSmallFair(n):\n",
    "    # Check if n is an integer\n",
    "    if not isinstance(n, int):\n",
    "        return False\n",
    "\n",
    "    # Function to count the number of even and odd digits\n",
    "    def count_even_odd_digits(number, even_count=0, odd_count=0):\n",
    "        if number == 0:\n",
    "            return even_count, odd_count\n",
    "        digit = abs(number % 10)\n",
    "        if digit % 2 == 0:\n",
    "            even_count += 1\n",
    "        else:\n",
    "            odd_count += 1\n",
    "        return count_even_odd_digits(number // 10, even_count, odd_count)\n",
    "\n",
    "    # Remove leading zeros\n",
    "    while n % 10 == 0 and n != 0:\n",
    "        n //= 10\n",
    "\n",
    "    # Count even and odd digits\n",
    "    even_count, odd_count = count_even_odd_digits(n)\n",
    "# \n",
    "    assert isSmallFair(83) \n",
    "    assert isSmallFair('axolotl')\n",
    "\n",
    "testIsSmallFair()\n"
   ]
  },
  {
   "cell_type": "markdown",
   "id": "3a6ef058",
   "metadata": {},
   "source": [
    "# HW2 Q1"
   ]
  },
  {
   "cell_type": "code",
   "execution_count": 26,
   "id": "a27d7188",
   "metadata": {},
   "outputs": [
    {
     "name": "stdout",
     "output_type": "stream",
     "text": [
      "5\n",
      "2\n",
      "1\n",
      "8\n"
     ]
    }
   ],
   "source": [
    "def digitCount(n):\n",
    "    n = abs(n)\n",
    "    count = 0\n",
    "    while(n>0):\n",
    "        count+=1\n",
    "        n //= 10\n",
    "    return count \n",
    "print (digitCount(12323))\n",
    "print (digitCount(54))\n",
    "print (digitCount(2))\n",
    "print (digitCount(12323657))"
   ]
  },
  {
   "cell_type": "markdown",
   "id": "4f29da79",
   "metadata": {},
   "source": [
    "# HW2 Q2"
   ]
  },
  {
   "cell_type": "code",
   "execution_count": 27,
   "id": "85e6735f",
   "metadata": {},
   "outputs": [
    {
     "name": "stdout",
     "output_type": "stream",
     "text": [
      "10\n"
     ]
    }
   ],
   "source": [
    "def gcd(x, y):\n",
    "    if y == 0:\n",
    "        return x\n",
    "    else:\n",
    "        return gcd(y, x % y)\n",
    "\n",
    "# Test cases\n",
    "print(gcd(270, 250))\n"
   ]
  },
  {
   "cell_type": "markdown",
   "id": "a0c57e15",
   "metadata": {},
   "source": [
    "# HW2 Q3"
   ]
  },
  {
   "cell_type": "code",
   "execution_count": 29,
   "id": "22540c91",
   "metadata": {},
   "outputs": [
    {
     "name": "stdout",
     "output_type": "stream",
     "text": [
      "False\n",
      "False\n",
      "True\n"
     ]
    }
   ],
   "source": [
    "def hasConsecutiveDigits(n):\n",
    "    n = abs(n)\n",
    "    \n",
    "    prev_digit = None\n",
    "    \n",
    "    while n > 0:\n",
    "    \n",
    "        digit = n % 10\n",
    "        if prev_digit is not None and digit == prev_digit:\n",
    "            return True\n",
    "        prev_digit = digit\n",
    "        n //= 10\n",
    "    \n",
    "    return False \n",
    "\n",
    "# Test cases\n",
    "print(hasConsecutiveDigits(12323)) \n",
    "print(hasConsecutiveDigits(0))    \n",
    "print(hasConsecutiveDigits(-111))   \n"
   ]
  },
  {
   "cell_type": "markdown",
   "id": "fba09d89",
   "metadata": {},
   "source": [
    "# HW2 Q5"
   ]
  },
  {
   "cell_type": "code",
   "execution_count": 124,
   "id": "0e11f081",
   "metadata": {},
   "outputs": [
    {
     "name": "stdout",
     "output_type": "stream",
     "text": [
      "1\n",
      "3\n",
      "8\n"
     ]
    }
   ],
   "source": [
    "def mostFrequentDigit(n):\n",
    "    if n == 0:\n",
    "        return 0\n",
    "\n",
    "    # Count the frequency of each digit\n",
    "    digit_counts = [0] * 10\n",
    "    n = abs(n)\n",
    "    while n > 0:\n",
    "        digit = n % 10\n",
    "        digit_counts[digit] += 1\n",
    "        n //= 10\n",
    "\n",
    "    # Find the most frequent digit\n",
    "    max_freq = max(digit_counts)\n",
    "    most_frequent_digit = min(i for i in range(10) if digit_counts[i] == max_freq)\n",
    "\n",
    "    return most_frequent_digit\n",
    "\n",
    "# Test the function\n",
    "print(mostFrequentDigit(12344321))\n",
    "print(mostFrequentDigit(4356))\n",
    "print(mostFrequentDigit(89))"
   ]
  },
  {
   "cell_type": "markdown",
   "id": "e0c1c5e3",
   "metadata": {},
   "source": [
    "# HW2 Q6"
   ]
  },
  {
   "cell_type": "code",
   "execution_count": 125,
   "id": "a9bb9d89",
   "metadata": {},
   "outputs": [
    {
     "name": "stdout",
     "output_type": "stream",
     "text": [
      "True\n",
      "True\n",
      "False\n"
     ]
    }
   ],
   "source": [
    "def num_digits(num):\n",
    "    count = 0\n",
    "    while num:\n",
    "        count += 1\n",
    "        num //= 10\n",
    "    return count\n",
    "\n",
    "def isRotation(x, y):\n",
    "    if num_digits(x) != num_digits(y):\n",
    "        return False\n",
    "\n",
    "    for _ in range(num_digits(x)):\n",
    "        if x == y:\n",
    "            return True\n",
    "        y = (y // 10) + ((y % 10) * (10 ** (num_digits(y) - 1)))\n",
    "    return False\n",
    "\n",
    "# Test the function\n",
    "print(isRotation(3412, 1234))\n",
    "print(isRotation(5678, 7856))\n",
    "print(isRotation(5678, 7865))\n"
   ]
  },
  {
   "cell_type": "markdown",
   "id": "6b97c4e1",
   "metadata": {},
   "source": [
    "# HW2 Part B Q10"
   ]
  },
  {
   "cell_type": "code",
   "execution_count": 126,
   "id": "8570f627",
   "metadata": {},
   "outputs": [
    {
     "name": "stdout",
     "output_type": "stream",
     "text": [
      "51\n",
      "3\n"
     ]
    }
   ],
   "source": [
    "def carrylessAdd(x, y):\n",
    "    result = 0\n",
    "    multiplier = 1\n",
    "\n",
    "    while x > 0 or y > 0:\n",
    "        \n",
    "        digit_x = x % 10\n",
    "        digit_y = y % 10\n",
    "\n",
    "        sum_digits = (digit_x + digit_y) % 10\n",
    "\n",
    "        result += sum_digits * multiplier\n",
    "\n",
    "        x //= 10\n",
    "        y //= 10\n",
    "        multiplier *= 10\n",
    "\n",
    "    return result\n",
    "\n",
    "# Test the function\n",
    "print(carrylessAdd(785, 376)) \n",
    "print(carrylessAdd(7, 6)) "
   ]
  },
  {
   "cell_type": "markdown",
   "id": "242733fc",
   "metadata": {},
   "source": [
    "# HW2 Part B Q12"
   ]
  },
  {
   "cell_type": "code",
   "execution_count": null,
   "id": "5be6b275",
   "metadata": {},
   "outputs": [
    {
     "name": "stdout",
     "output_type": "stream",
     "text": [
      "Welcome to the game of Pig!\n",
      "\n",
      "Current scores: Player 1: 0, Player 2: 0\n",
      "\n",
      "Player 1's turn:\n",
      "You rolled a 2\n",
      "Your turn total is now 2\n",
      "Do you want to (h)old or (r)oll again? r\n",
      "You rolled a 6\n",
      "Your turn total is now 8\n",
      "Do you want to (h)old or (r)oll again? h\n",
      "Player 1 chose to hold.\n",
      "\n",
      "Current scores: Player 1: 8, Player 2: 0\n",
      "\n",
      "Player 2's turn:\n",
      "You rolled a 1\n",
      "You rolled a 1! Turn over.\n",
      "\n",
      "Current scores: Player 1: 8, Player 2: 0\n",
      "\n",
      "Player 1's turn:\n",
      "You rolled a 3\n",
      "Your turn total is now 3\n",
      "Do you want to (h)old or (r)oll again? r\n",
      "You rolled a 4\n",
      "Your turn total is now 7\n",
      "Do you want to (h)old or (r)oll again? h\n",
      "Player 1 chose to hold.\n",
      "\n",
      "Current scores: Player 1: 15, Player 2: 0\n",
      "\n",
      "Player 2's turn:\n",
      "You rolled a 4\n",
      "Your turn total is now 4\n"
     ]
    }
   ],
   "source": [
    "import random\n",
    "\n",
    "def roll_dice():\n",
    "    \"\"\"Simulates rolling a six-sided die.\"\"\"\n",
    "    return random.randint(1, 6)\n",
    "\n",
    "def playPig():\n",
    "    \"\"\"Allows two players to play the game Pig.\"\"\"\n",
    "    print(\"Welcome to the game of Pig!\")\n",
    "    player_scores = [0, 0]  # Scores for player 1 and player 2\n",
    "    current_player = 0  # Player 1 starts first\n",
    "\n",
    "    while max(player_scores) < 100:\n",
    "        print(f\"\\nCurrent scores: Player 1: {player_scores[0]}, Player 2: {player_scores[1]}\")\n",
    "        print(f\"\\nPlayer {current_player + 1}'s turn:\")\n",
    "        turn_total = 0\n",
    "        while True:\n",
    "            roll = roll_dice()\n",
    "            print(f\"You rolled a {roll}\")\n",
    "            if roll == 1:\n",
    "                print(\"You rolled a 1! Turn over.\")\n",
    "                break\n",
    "            else:\n",
    "                turn_total += roll\n",
    "                print(f\"Your turn total is now {turn_total}\")\n",
    "                choice = input(\"Do you want to (h)old or (r)oll again? \").lower()\n",
    "                if choice == 'h':\n",
    "                    player_scores[current_player] += turn_total\n",
    "                    print(f\"Player {current_player + 1} chose to hold.\")\n",
    "                    break\n",
    "                elif choice == 'r':\n",
    "                    continue\n",
    "                else:\n",
    "                    print(\"Invalid choice. Please enter 'h' or 'r'.\")\n",
    "\n",
    "        # Switch to the next player\n",
    "        current_player = (current_player + 1) % 2\n",
    "\n",
    "    # Game over, determine the winner\n",
    "    print(\"\\nGame over!\")\n",
    "    print(f\"Final scores: Player 1: {player_scores[0]}, Player 2: {player_scores[1]}\")\n",
    "    if player_scores[0] > player_scores[1]:\n",
    "        print(\"Player 1 wins!\")\n",
    "    elif player_scores[1] > player_scores[0]:\n",
    "        print(\"Player 2 wins!\")\n",
    "    else:\n",
    "        print(\"It's a tie!\")\n",
    "\n",
    "# Play the game\n",
    "playPig()"
   ]
  },
  {
   "cell_type": "markdown",
   "id": "f1840dea",
   "metadata": {},
   "source": [
    "# Quiz 2 Version A Q1"
   ]
  },
  {
   "cell_type": "code",
   "execution_count": null,
   "id": "595ab311",
   "metadata": {},
   "outputs": [],
   "source": [
    "x = 3\n",
    "y = 2\n",
    "y = 3\n",
    "5"
   ]
  },
  {
   "cell_type": "markdown",
   "id": "946a0b41",
   "metadata": {},
   "source": [
    "# Quiz 2 Version A Q2"
   ]
  },
  {
   "cell_type": "code",
   "execution_count": null,
   "id": "164860ee",
   "metadata": {},
   "outputs": [],
   "source": [
    ": yay\n",
    "0 0\n",
    "yay\n",
    "1 1\n",
    "2 0\n",
    "2 3\n",
    "None"
   ]
  },
  {
   "cell_type": "markdown",
   "id": "8e1425c5",
   "metadata": {},
   "source": [
    "# HW 3 Part A Q1"
   ]
  },
  {
   "cell_type": "code",
   "execution_count": 105,
   "id": "a51a22c3",
   "metadata": {},
   "outputs": [
    {
     "name": "stdout",
     "output_type": "stream",
     "text": [
      "Test cases passed successfully!\n"
     ]
    }
   ],
   "source": [
    "def rotateString(s, k):\n",
    "    length = len(s)\n",
    "    if length == 0:\n",
    "        return s\n",
    "\n",
    "    k %= length\n",
    "\n",
    "    if k == 0:\n",
    "        return s\n",
    "\n",
    "    if k > 0:\n",
    "        return s[k:] + s[:k] \n",
    "    else:\n",
    "        return s[length + k:] + s[:length + k]\n",
    "\n",
    "# Test cases\n",
    "assert(rotateString('abcd', 1) == 'bcda')\n",
    "assert(rotateString('abcd', -1) == 'dabc')\n",
    "\n",
    "print(\"Test cases passed successfully!\")\n"
   ]
  },
  {
   "cell_type": "markdown",
   "id": "4cca87c9",
   "metadata": {},
   "source": [
    "# HW 3 Part A Q2"
   ]
  },
  {
   "cell_type": "code",
   "execution_count": 106,
   "id": "cfed7122",
   "metadata": {},
   "outputs": [
    {
     "name": "stdout",
     "output_type": "stream",
     "text": [
      "Test cases passed successfully!\n"
     ]
    }
   ],
   "source": [
    "def applyCaesarCipher(message, shift):\n",
    "    result = \"\"\n",
    "    for char in message:\n",
    "        if char.isalpha():\n",
    "            if char.islower():\n",
    "                shifted_char = chr(((ord(char) - ord('a') + shift) % 26) + ord('a'))\n",
    "            else:\n",
    "                shifted_char = chr(((ord(char) - ord('A') + shift) % 26) + ord('A'))\n",
    "        else:\n",
    "            shifted_char = char\n",
    "        result += shifted_char\n",
    "    return result\n",
    "\n",
    "# Test cases\n",
    "assert(applyCaesarCipher(\"We Attack At Dawn\", 1) == \"Xf Buubdl Bu Ebxo\")\n",
    "assert(applyCaesarCipher(\"zodiac\", -2) == \"xmbgya\")\n",
    "\n",
    "print(\"Test cases passed successfully!\")\n"
   ]
  },
  {
   "cell_type": "markdown",
   "id": "ee7a11a0",
   "metadata": {},
   "source": [
    "# HW 3 Part A Q3"
   ]
  },
  {
   "cell_type": "code",
   "execution_count": 109,
   "id": "e3e6e98c",
   "metadata": {},
   "outputs": [
    {
     "name": "stdout",
     "output_type": "stream",
     "text": [
      "19\n",
      "None\n"
     ]
    }
   ],
   "source": [
    "import re\n",
    "\n",
    "def largestNumber(text):\n",
    "    numbers = re.findall(r'\\b\\d+\\b', text)\n",
    "\n",
    "    if not numbers:\n",
    "        return None\n",
    "\n",
    "    return max(map(int, numbers))\n",
    "\n",
    "# Test cases\n",
    "print(largestNumber(\"I saw 3 dogs, 19 cats, and 14 cows!\"))  \n",
    "print(largestNumber(\"Please eat healthy!\"))  \n"
   ]
  },
  {
   "cell_type": "markdown",
   "id": "a84f07ff",
   "metadata": {},
   "source": [
    "# HW 3 Part A Q4"
   ]
  },
  {
   "cell_type": "code",
   "execution_count": 112,
   "id": "b703211b",
   "metadata": {},
   "outputs": [],
   "source": [
    "def topScorer(data):\n",
    "    if not data:\n",
    "        return None\n",
    "    \n",
    "    scores_dict = {}\n",
    "    \n",
    "    lines = data.splitlines()\n",
    "    \n",
    "    for line in lines:\n",
    "\n",
    "        parts = line.split(',')\n",
    "        player_name = parts[0]\n",
    "        scores = [int(score) for score in parts[1:]] \n",
    "        \n",
    "        total_score = sum(scores)\n",
    "        \n",
    "        scores_dict[player_name] = total_score\n",
    "    \n",
    "    max_score = max(scores_dict.values())\n",
    "    top_scorers = [player for player, score in scores_dict.items() if score == max_score]\n",
    "    if len(top_scorers) > 1:\n",
    "        return ','.join(top_scorers)\n",
    "    else:\n",
    "        return top_scorers[0]\n",
    "\n",
    "# Test cases\n",
    "data1 = '''\\\n",
    "Fred,10,20,30,40\n",
    "Wilma,10,20,30\n",
    "'''\n",
    "assert(topScorer(data1) == 'Fred')\n",
    "\n",
    "data2 = '''\\\n",
    "Fred,10,20,30\n",
    "Wilma,10,20,30,40\n",
    "'''\n",
    "assert(topScorer(data2) == 'Wilma')\n",
    "\n",
    "data3 = '''\\\n",
    "Fred,11,20,30\n",
    "Wilma,10,20,30,1\n",
    "'''\n",
    "assert(topScorer(data3) == 'Fred,Wilma')\n",
    "\n",
    "assert(topScorer('') == None)\n"
   ]
  },
  {
   "cell_type": "markdown",
   "id": "5a87bb25",
   "metadata": {},
   "source": [
    "# HW 3 Part B Q6"
   ]
  },
  {
   "cell_type": "code",
   "execution_count": 121,
   "id": "e021e057",
   "metadata": {},
   "outputs": [
    {
     "name": "stdout",
     "output_type": "stream",
     "text": [
      "All test cases passed successfully!\n"
     ]
    }
   ],
   "source": [
    "def collapseWhitespace(s):\n",
    "    result = \"\"\n",
    "    whitespace = False  \n",
    "    for char in s:\n",
    "        if char.isspace():\n",
    "            if not whitespace: \n",
    "                result += ' ' \n",
    "                whitespace = True\n",
    "        else:\n",
    "            result += char  \n",
    "            whitespace = False \n",
    "    return result\n",
    "\n",
    "# Test cases\n",
    "assert(collapseWhitespace(\"a\\nb\") == \"a b\")\n",
    "assert(collapseWhitespace(\"a\\n   \\t    b\") == \"a b\")\n",
    "assert(collapseWhitespace(\"a\\n   \\t    b  \\n\\n  \\t\\t\\t c   \") == \"a b c \")\n",
    "\n",
    "print(\"All test cases passed successfully!\")\n"
   ]
  },
  {
   "cell_type": "markdown",
   "id": "9ccbd168",
   "metadata": {},
   "source": [
    "# HW 3 Part B Q9"
   ]
  },
  {
   "cell_type": "code",
   "execution_count": null,
   "id": "80bd1921",
   "metadata": {},
   "outputs": [],
   "source": [
    "def decodeRightLeftRouteCipher(encoded_string):\n",
    "    # Calculate the number of rows based on the length of the encoded string\n",
    "    num_rows = int(len(encoded_string) ** 0.5)\n",
    "    \n",
    "    # Initialize a 2D list to store characters in a grid\n",
    "    grid = [[''] * num_rows for _ in range(num_rows)]\n",
    "    \n",
    "    # Fill the grid by reading characters from the encoded string\n",
    "    for i in range(num_rows):\n",
    "        for j in range(num_rows):\n",
    "            # Calculate the index in the encoded string\n",
    "            index = j + i * num_rows\n",
    "            grid[i][j] = encoded_string[index]\n",
    "    \n",
    "    # Initialize the decoded string\n",
    "    decoded_string = ''\n",
    "    \n",
    "    # Read characters from the grid column by column\n",
    "    for j in range(num_rows):\n",
    "        if j % 2 == 0:\n",
    "            for i in range(num_rows):\n",
    "                decoded_string += grid[i][j]\n",
    "        else:\n",
    "            for i in range(num_rows - 1, -1, -1):\n",
    "                decoded_string += grid[i][j]\n",
    "    \n",
    "    return decoded_string\n",
    "\n",
    "# Test\n",
    "print(decodeRightLeftRouteCipher(\"4WTAWNTAEACDzyAKT\"))\n"
   ]
  },
  {
   "cell_type": "code",
   "execution_count": null,
   "id": "d8618fd4",
   "metadata": {},
   "outputs": [],
   "source": [
    "The following assert statements pass without crashing:\n",
    "\n",
    "- a assert('abcd' == \"abcd\")\n",
    "- b assert('BEEP'.isupper())\n",
    "- d assert(len('\\nice') == 5)\n",
    "- e assert(chr(ord('a') + 2) == 'c')\n",
    "- g assert(s1[5] == 'a')"
   ]
  },
  {
   "cell_type": "markdown",
   "id": "fbce6f22",
   "metadata": {},
   "source": [
    "# HW 4  Quiz 3 Q2"
   ]
  },
  {
   "cell_type": "code",
   "execution_count": null,
   "id": "8be2c932",
   "metadata": {},
   "outputs": [],
   "source": [
    "The code prints:\n",
    "\n",
    "b) '0Ad3'"
   ]
  },
  {
   "cell_type": "markdown",
   "id": "1794cb4b",
   "metadata": {},
   "source": [
    "# HW 4  Quiz 3 Q3"
   ]
  },
  {
   "cell_type": "code",
   "execution_count": null,
   "id": "b10d1325",
   "metadata": {},
   "outputs": [],
   "source": [
    "The code prints:\n",
    "\n",
    "a) 'bxde-Bcee'"
   ]
  },
  {
   "cell_type": "markdown",
   "id": "7c3f6cf3",
   "metadata": {},
   "source": [
    "# HW 4  Quiz 3 Q4"
   ]
  },
  {
   "cell_type": "code",
   "execution_count": null,
   "id": "5b92564a",
   "metadata": {},
   "outputs": [],
   "source": [
    "1) False\n",
    "2) False\n",
    "3) False\n",
    "4) False\n",
    "5) False\n",
    "6) False"
   ]
  },
  {
   "cell_type": "markdown",
   "id": "0032c8c8",
   "metadata": {},
   "source": [
    "# HW 4  Quiz 3 Q5"
   ]
  },
  {
   "cell_type": "code",
   "execution_count": 78,
   "id": "cb4fe28d",
   "metadata": {},
   "outputs": [],
   "source": [
    "def reverseStr(s):\n",
    "    return s[::-1]\n",
    "\n",
    "# Test cases\n",
    "assert(reverseStr('abcd123') == '321dcba')\n",
    "assert(reverseStr(reverseStr('H0nk')) == reverseStr('kn0H'))\n"
   ]
  },
  {
   "cell_type": "markdown",
   "id": "e6e32607",
   "metadata": {},
   "source": [
    "# HW 4  Quiz 3 Q6"
   ]
  },
  {
   "cell_type": "code",
   "execution_count": null,
   "id": "ba8d1e08",
   "metadata": {},
   "outputs": [],
   "source": [
    "def isPalindrome(i):\n",
    "    return str(i) == str(i)[::-1]\n",
    "\n",
    "# Test cases\n",
    "assert(isPalindrome(12321) == True)\n",
    "assert(isPalindrome(29892) == True)\n",
    "assert(isPalindrome(1) == True)\n",
    "assert(isPalindrome(12345) == False)\n",
    "assert(isPalindrome(1010) == False)\n"
   ]
  },
  {
   "cell_type": "markdown",
   "id": "b0980a63",
   "metadata": {},
   "source": [
    "# HW 4 Part A Q1"
   ]
  },
  {
   "cell_type": "code",
   "execution_count": 83,
   "id": "737f0a74",
   "metadata": {},
   "outputs": [
    {
     "name": "stdout",
     "output_type": "stream",
     "text": [
      "6\n",
      "7\n",
      "0\n"
     ]
    }
   ],
   "source": [
    "def alternatingSum(a):\n",
    "    if not a: \n",
    "        return 0\n",
    "    \n",
    "    result = a[0]  \n",
    "    \n",
    "    for i in range(1, len(a)):\n",
    "        if i % 2 == 1: \n",
    "            result -= a[i]\n",
    "        else:           \n",
    "            result += a[i]\n",
    "    \n",
    "    return result\n",
    "\n",
    "# Test cases\n",
    "print(alternatingSum([5, 3, 8, 4]))\n",
    "print(alternatingSum([5, 3, 9, 4]))\n",
    "print(alternatingSum([]))         \n"
   ]
  },
  {
   "cell_type": "markdown",
   "id": "e2567470",
   "metadata": {},
   "source": [
    "# HW 4 Part A Q2"
   ]
  },
  {
   "cell_type": "code",
   "execution_count": 85,
   "id": "3561e968",
   "metadata": {},
   "outputs": [
    {
     "name": "stdout",
     "output_type": "stream",
     "text": [
      "4.5\n",
      "3\n",
      "None\n"
     ]
    }
   ],
   "source": [
    "def median(a):\n",
    "    if not a:  \n",
    "        return None\n",
    "    \n",
    "    sorted_a = sorted(a) \n",
    "    \n",
    "    n = len(sorted_a)\n",
    "    middle_index = n // 2\n",
    "    \n",
    "    if n % 2 == 1:  \n",
    "        return sorted_a[middle_index]\n",
    "    else:          \n",
    "        return (sorted_a[middle_index - 1] + sorted_a[middle_index]) / 2\n",
    "\n",
    "# Test cases\n",
    "print(median([5, 3, 8, 4]))  \n",
    "print(median([1, 2, 3, 4, 5])) \n",
    "print(median([]))              \n"
   ]
  },
  {
   "cell_type": "markdown",
   "id": "2d906827",
   "metadata": {},
   "source": [
    "# HW 4 Part A Q3"
   ]
  },
  {
   "cell_type": "code",
   "execution_count": 86,
   "id": "22e7ebae",
   "metadata": {},
   "outputs": [
    {
     "name": "stdout",
     "output_type": "stream",
     "text": [
      "4\n",
      "2\n",
      "-1\n"
     ]
    }
   ],
   "source": [
    "def smallestDifference(a):\n",
    "    if not a:  \n",
    "        return -1\n",
    "    \n",
    "    sorted_a = sorted(a)  \n",
    "    \n",
    "    min_diff = float('inf')  \n",
    "    \n",
    "    for i in range(len(sorted_a) - 1):\n",
    "        diff = abs(sorted_a[i] - sorted_a[i + 1])\n",
    "        if diff < min_diff:\n",
    "            min_diff = diff\n",
    "    \n",
    "    return min_diff\n",
    "\n",
    "# Test cases\n",
    "print(smallestDifference([30, 5, 20, 9]))   \n",
    "print(smallestDifference([1, 3, 6, 10]))    \n",
    "print(smallestDifference([]))             \n"
   ]
  },
  {
   "cell_type": "markdown",
   "id": "51e93727",
   "metadata": {},
   "source": [
    "# HW 4 Part A Q4"
   ]
  },
  {
   "cell_type": "code",
   "execution_count": 88,
   "id": "7ba3548a",
   "metadata": {},
   "outputs": [
    {
     "name": "stdout",
     "output_type": "stream",
     "text": [
      "[1, 2, 3, 4, 5]\n"
     ]
    }
   ],
   "source": [
    "def nondestructiveRemoveRepeats(L):\n",
    "    unique_elements = []\n",
    "    for elem in L:\n",
    "        if elem not in unique_elements:\n",
    "            unique_elements.append(elem)\n",
    "    return unique_elements\n",
    "\n",
    "# Test case\n",
    "L = [1, 2, 2, 3, 3, 3, 4, 5, 5]\n",
    "print(nondestructiveRemoveRepeats(L))  \n"
   ]
  },
  {
   "cell_type": "markdown",
   "id": "85b5684a",
   "metadata": {},
   "source": [
    "# HW 4 Part A Q5"
   ]
  },
  {
   "cell_type": "code",
   "execution_count": 89,
   "id": "d80639c9",
   "metadata": {},
   "outputs": [
    {
     "name": "stdout",
     "output_type": "stream",
     "text": [
      "[1, 2, 3, 4, 5]\n"
     ]
    }
   ],
   "source": [
    "def destructiveRemoveRepeats(L):\n",
    "    i = 0\n",
    "    while i < len(L):\n",
    "        current_elem = L[i]\n",
    "        j = i + 1\n",
    "        while j < len(L):\n",
    "            if L[j] == current_elem:\n",
    "                del L[j]\n",
    "            else:\n",
    "                j += 1\n",
    "        i += 1\n",
    "\n",
    "# Test case\n",
    "L = [1, 2, 2, 3, 3, 3, 4, 5, 5]\n",
    "destructiveRemoveRepeats(L)\n",
    "print(L) \n"
   ]
  },
  {
   "cell_type": "markdown",
   "id": "7e3526d2",
   "metadata": {},
   "source": [
    "# HW 4 Part B Q7"
   ]
  },
  {
   "cell_type": "code",
   "execution_count": 90,
   "id": "2d2e98b4",
   "metadata": {},
   "outputs": [
    {
     "name": "stdout",
     "output_type": "stream",
     "text": [
      "True\n",
      "True\n",
      "False\n"
     ]
    }
   ],
   "source": [
    "def isSorted(a):\n",
    "    # Check if the list is sorted in ascending order\n",
    "    ascending = all(a[i] <= a[i + 1] for i in range(len(a) - 1))\n",
    "    if ascending:\n",
    "        return True\n",
    "\n",
    "    # Check if the list is sorted in descending order\n",
    "    descending = all(a[i] >= a[i + 1] for i in range(len(a) - 1))\n",
    "    if descending:\n",
    "        return True\n",
    "\n",
    "    return False\n",
    "\n",
    "# Test cases\n",
    "print(isSorted([1, 2, 3, 4, 5]))  \n",
    "print(isSorted([5, 4, 3, 2, 1]))  \n",
    "print(isSorted([1, 3, 2, 5, 4]))  \n"
   ]
  },
  {
   "cell_type": "markdown",
   "id": "19d63c0b",
   "metadata": {},
   "source": [
    "# HW 4 Part B Q8"
   ]
  },
  {
   "cell_type": "code",
   "execution_count": 92,
   "id": "f0cdfbc9",
   "metadata": {},
   "outputs": [
    {
     "name": "stdout",
     "output_type": "stream",
     "text": [
      "[]\n",
      "[(3, 1)]\n",
      "[(1, -1), (1, 2), (1, 7)]\n",
      "[(2, 3), (1, 8), (3, -10)]\n"
     ]
    }
   ],
   "source": [
    "def lookAndSay(a):\n",
    "    if not a:\n",
    "        return []\n",
    "\n",
    "    result = []\n",
    "    i = 0\n",
    "    while i < len(a):\n",
    "        count = 1\n",
    "        while i + 1 < len(a) and a[i] == a[i + 1]:\n",
    "            i += 1\n",
    "            count += 1\n",
    "        result.append((count, a[i]))\n",
    "        i += 1\n",
    "    return result\n",
    "\n",
    "# Examples\n",
    "print(lookAndSay([]))                \n",
    "print(lookAndSay([1, 1, 1]))         \n",
    "print(lookAndSay([-1, 2, 7])) \n",
    "print(lookAndSay([3, 3, 8, -10, -10, -10]))     \n"
   ]
  },
  {
   "cell_type": "markdown",
   "id": "c0cc75d5",
   "metadata": {},
   "source": [
    "# HW 4 Part B Q9"
   ]
  },
  {
   "cell_type": "code",
   "execution_count": 93,
   "id": "4231fd2d",
   "metadata": {},
   "outputs": [
    {
     "name": "stdout",
     "output_type": "stream",
     "text": [
      "[3, 3, 8, -10, -10, -10]\n"
     ]
    }
   ],
   "source": [
    "def inverseLookAndSay(a):\n",
    "    result = []\n",
    "    for count, value in a:\n",
    "        result.extend([value] * count)\n",
    "    return result\n",
    "\n",
    "# Test the function\n",
    "print(inverseLookAndSay([(2, 3), (1, 8), (3, -10)]))  \n"
   ]
  },
  {
   "cell_type": "markdown",
   "id": "3efeee70",
   "metadata": {},
   "source": [
    "# HW 4 Part B Q10"
   ]
  },
  {
   "cell_type": "code",
   "execution_count": 94,
   "id": "a3fea084",
   "metadata": {},
   "outputs": [
    {
     "name": "stdout",
     "output_type": "stream",
     "text": [
      "[8, 10, 12, 15]\n"
     ]
    }
   ],
   "source": [
    "def multiplyPolynomials(p1, p2):\n",
    "    degree = len(p1) + len(p2) - 2\n",
    "    result = [0] * (degree + 1)\n",
    "\n",
    "    for i in range(len(p1)):\n",
    "        for j in range(len(p2)):\n",
    "            result[i + j] += p1[i] * p2[j]\n",
    "\n",
    "    return result\n",
    "\n",
    "# Test the function\n",
    "print(multiplyPolynomials([2, 0, 3], [4, 5]))\n"
   ]
  },
  {
   "cell_type": "markdown",
   "id": "1fa90b04",
   "metadata": {},
   "source": [
    "# HW 4 Part B Q11"
   ]
  },
  {
   "cell_type": "code",
   "execution_count": 101,
   "id": "3dbb1057",
   "metadata": {},
   "outputs": [
    {
     "name": "stdout",
     "output_type": "stream",
     "text": [
      "('arts', 4)\n"
     ]
    }
   ],
   "source": [
    "from collections import Counter\n",
    "\n",
    "def canFormWord(word, hand_count):\n",
    "    word_count = Counter(word)\n",
    "    for letter, count in word_count.items():\n",
    "        if count > hand_count.get(letter, 0):\n",
    "            return False\n",
    "    return True\n",
    "\n",
    "def calculateScore(word, letterScores):\n",
    "    score = 0\n",
    "    for letter in word:\n",
    "        score += letterScores[ord(letter) - ord('a')]\n",
    "    return score\n",
    "\n",
    "def bestScrabbleScore(dictionary, letterScores, hand):\n",
    "    hand_count = Counter(hand)\n",
    "    max_score = 0\n",
    "    best_words = []\n",
    "\n",
    "    for word in dictionary:\n",
    "        if canFormWord(word, hand_count):\n",
    "            score = calculateScore(word, letterScores)\n",
    "            if score > max_score:\n",
    "                max_score = score\n",
    "                best_words = [word]\n",
    "            elif score == max_score:\n",
    "                best_words.append(word)\n",
    "\n",
    "    if best_words:\n",
    "        if len(best_words) == 1:\n",
    "            return (best_words[0], max_score)\n",
    "        else:\n",
    "            return (best_words, max_score)\n",
    "    else:\n",
    "        return None\n",
    "\n",
    "# Example usage:\n",
    "dictionary = ['cat', 'bat', 'rat', 'arts', 'car']\n",
    "letterScores = [1, 3, 3, 2, 1, 4, 2, 4, 1, 8, 5, 1, 3, 1, 1, 3, 10, 1, 1, 1, 1, 4, 4, 8, 4, 10]\n",
    "hand = ['a', 't', 'r', 's']\n",
    "print(bestScrabbleScore(dictionary, letterScores, hand))  # Output: (['rat', 'arts'], 4)\n"
   ]
  },
  {
   "cell_type": "markdown",
   "id": "4a10240b",
   "metadata": {},
   "source": [
    "# HW 5 Versin A Quiz 4 Q1"
   ]
  },
  {
   "cell_type": "markdown",
   "id": "6a5e8825",
   "metadata": {},
   "source": [
    "There is an error, L is not defined"
   ]
  },
  {
   "cell_type": "markdown",
   "id": "c6878bfa",
   "metadata": {},
   "source": [
    "# HW 5 Versin A Quiz 4 Q2"
   ]
  },
  {
   "cell_type": "code",
   "execution_count": null,
   "id": "e56b2cc5",
   "metadata": {},
   "outputs": [],
   "source": [
    "2\n",
    "[1, 0, 2, 0, 1, 0]\n",
    "[2, 4, 6, 2, 4, 6]\n"
   ]
  },
  {
   "cell_type": "markdown",
   "id": "8a244047",
   "metadata": {},
   "source": [
    "# hw 5 part A Q3"
   ]
  },
  {
   "cell_type": "code",
   "execution_count": 51,
   "id": "2e067b3b",
   "metadata": {},
   "outputs": [
    {
     "name": "stdout",
     "output_type": "stream",
     "text": [
      "False\n",
      "False\n",
      "False\n"
     ]
    }
   ],
   "source": [
    "def isKingsTour(board):\n",
    "    n = len(board)\n",
    "\n",
    "    visited = set()\n",
    "    for row in board:\n",
    "        for num in row:\n",
    "            if num < 1 or num > n**2 or num in visited:\n",
    "                return False\n",
    "            visited.add(num)\n",
    "\n",
    "    moves = [(-1, -1), (-1, 0), (-1, 1),\n",
    "             (0, -1),           (0, 1),\n",
    "             (1, -1), (1, 0), (1, 1)]\n",
    "\n",
    "    def is_valid_move(x, y):\n",
    "        return 0 <= x < n and 0 <= y < n\n",
    "\n",
    "    def can_move_from(x, y):\n",
    "        next_num = board[x][y] + 1\n",
    "        for dx, dy in moves:\n",
    "            nx, ny = x + dx, y + dy\n",
    "            if is_valid_move(nx, ny):\n",
    "                if board[nx][ny] == next_num:\n",
    "                    return True\n",
    "        return False\n",
    "\n",
    "    for i in range(n):\n",
    "        for j in range(n):\n",
    "            if not can_move_from(i, j):\n",
    "                return False\n",
    "\n",
    "    return True\n",
    "\n",
    "# Test cases\n",
    "board1 = [[3, 2, 1],\n",
    "          [6, 4, 9],\n",
    "          [5, 7, 8]]\n",
    "print(isKingsTour(board1))  \n",
    "\n",
    "board2 = [[1, 2, 3],\n",
    "          [7, 4, 8],\n",
    "          [6, 5, 9]]\n",
    "print(isKingsTour(board2))\n",
    "\n",
    "board3 = [[1, 14, 15, 16],\n",
    "          [13, 2, 7, 6],\n",
    "          [12, 8, 3, 5],\n",
    "          [11, 10, 9, 4]]\n",
    "print(isKingsTour(board3))  \n"
   ]
  },
  {
   "cell_type": "markdown",
   "id": "7468e446",
   "metadata": {},
   "source": [
    "# hw 5 part B Q6"
   ]
  },
  {
   "cell_type": "code",
   "execution_count": 55,
   "id": "834a9682",
   "metadata": {},
   "outputs": [
    {
     "name": "stdout",
     "output_type": "stream",
     "text": [
      "True\n",
      "False\n",
      "False\n",
      "False\n"
     ]
    }
   ],
   "source": [
    "def isMagicSquare(L):\n",
    "    # Check if L is a 2D list\n",
    "    if not isinstance(L, list) or not all(isinstance(row, list) for row in L):\n",
    "        return False\n",
    "\n",
    "    n = len(L)\n",
    "    if n == 0 or any(len(row) != n for row in L):\n",
    "        return False\n",
    "\n",
    "    flattened = [num for row in L for num in row]\n",
    "    if len(flattened) != len(set(flattened)):\n",
    "        return False\n",
    "    if any(not isinstance(num, int) for num in flattened):\n",
    "        return False\n",
    "\n",
    "    expected_sum = sum(L[0])\n",
    "\n",
    "    for row in L:\n",
    "        if sum(row) != expected_sum:\n",
    "            return False\n",
    "    for j in range(n):\n",
    "        if sum(L[i][j] for i in range(n)) != expected_sum:\n",
    "            return False\n",
    "\n",
    "    if sum(L[i][i] for i in range(n)) != expected_sum:\n",
    "        return False\n",
    "    if sum(L[i][n - i - 1] for i in range(n)) != expected_sum:\n",
    "        return False\n",
    "\n",
    "    return True\n",
    "\n",
    "# Test cases\n",
    "square1 = [[2, 7, 6], [9, 5, 1], [4, 3, 8]]\n",
    "print(isMagicSquare(square1)) \n",
    "\n",
    "square2 = [[2, 7, 6], [9, 5, 1], [4, 3, 9]]\n",
    "print(isMagicSquare(square2)) \n",
    "\n",
    "square3 = [[2, 7], [9, 5, 1], [4, 3, 8]]\n",
    "print(isMagicSquare(square3)) \n",
    "\n",
    "square4 = [[1, 2, 3], [4, 5, 6], [7, 8, 9]]\n",
    "print(isMagicSquare(square4)) \n"
   ]
  },
  {
   "cell_type": "markdown",
   "id": "9d094d22",
   "metadata": {},
   "source": [
    "# hw 5 part B Q7"
   ]
  },
  {
   "cell_type": "code",
   "execution_count": 74,
   "id": "399a0c6f",
   "metadata": {},
   "outputs": [
    {
     "name": "stdout",
     "output_type": "stream",
     "text": [
      "True\n",
      "True\n"
     ]
    }
   ],
   "source": [
    "def wordSearch(board, word):\n",
    "    def search_word(board, word, row, col, seen):\n",
    "        if len(word) == 0:\n",
    "            return True\n",
    "\n",
    "        if row < 0 or row >= len(board) or col < 0 or col >= len(board[0]):\n",
    "            return False\n",
    "\n",
    "        if (row, col) in seen:\n",
    "            return False\n",
    "\n",
    "        if board[row][col] == word[0]:\n",
    "            seen.add((row, col))\n",
    "            if search_word(board, word[1:], row - 1, col, seen): return True\n",
    "            if search_word(board, word[1:], row + 1, col, seen): return True\n",
    "            if search_word(board, word[1:], row, col - 1, seen): return True\n",
    "            if search_word(board, word[1:], row, col + 1, seen): return True\n",
    "            seen.remove((row, col))\n",
    "        elif str.isdigit(str(board[row][col])):\n",
    "            num_letters = int(board[row][col])\n",
    "            sub_word = word[:num_letters]\n",
    "            if word.startswith(sub_word):\n",
    "                if search_word(board, word[num_letters:], row - 1, col, seen): return True\n",
    "                if search_word(board, word[num_letters:], row + 1, col, seen): return True\n",
    "                if search_word(board, word[num_letters:], row, col - 1, seen): return True\n",
    "                if search_word(board, word[num_letters:], row, col + 1, seen): return True\n",
    "        return False\n",
    "\n",
    "    for i in range(len(board)):\n",
    "        for j in range(len(board[0])):\n",
    "            if search_word(board, word, i, j, set()):\n",
    "                return True\n",
    "    return False\n",
    "\n",
    "# Test\n",
    "board = [['p', 'i', 'g'],\n",
    "         ['s', 2, 'c']]\n",
    "\n",
    "print(wordSearch(board, \"cow\"))  # Output: True\n",
    "print(wordSearch(board, \"cows\"))  # Output: True\n"
   ]
  }
 ],
 "metadata": {
  "kernelspec": {
   "display_name": "Python 3",
   "language": "python",
   "name": "python3"
  },
  "language_info": {
   "codemirror_mode": {
    "name": "ipython",
    "version": 3
   },
   "file_extension": ".py",
   "mimetype": "text/x-python",
   "name": "python",
   "nbconvert_exporter": "python",
   "pygments_lexer": "ipython3",
   "version": "3.8.8"
  }
 },
 "nbformat": 4,
 "nbformat_minor": 5
}
