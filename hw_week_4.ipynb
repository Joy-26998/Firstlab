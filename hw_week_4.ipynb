{
  "cells": [
    {
      "cell_type": "markdown",
      "metadata": {
        "id": "view-in-github",
        "colab_type": "text"
      },
      "source": [
        "<a href=\"https://colab.research.google.com/github/Joy-26998/Firstlab/blob/main/hw_week_4.ipynb\" target=\"_parent\"><img src=\"https://colab.research.google.com/assets/colab-badge.svg\" alt=\"Open In Colab\"/></a>"
      ]
    },
    {
      "cell_type": "markdown",
      "metadata": {
        "id": "0A747DB1bz5q"
      },
      "source": [
        "Question 1"
      ]
    },
    {
      "cell_type": "code",
      "execution_count": null,
      "metadata": {
        "colab": {
          "base_uri": "https://localhost:8080/"
        },
        "id": "0zCu-lX8jqVR",
        "outputId": "8d0860b0-eb1e-4e74-9ff4-1f4962d870b1"
      },
      "outputs": [
        {
          "name": "stdout",
          "output_type": "stream",
          "text": [
            "Testing mostCommonName()...Passed!\n",
            "Testing mostCommonName_nlogn()...Passed!\n",
            "Testing mostCommonName_linear()...Passed!\n"
          ]
        }
      ],
      "source": [
        "def mostCommonName_quadratic(L):\n",
        "    counts = {}\n",
        "    max_count = 0\n",
        "    most_common_names = set()\n",
        "\n",
        "    for name in L:\n",
        "        counts[name] = counts.get(name, 0) + 1\n",
        "        if counts[name] > max_count:\n",
        "            max_count = counts[name]\n",
        "            most_common_names = {name}\n",
        "        elif counts[name] == max_count:\n",
        "            most_common_names.add(name)\n",
        "\n",
        "    if most_common_names:\n",
        "        return most_common_names\n",
        "    else:\n",
        "        return None\n",
        "\n",
        "def mostCommonName_nlogn(L):\n",
        "    counts = {}\n",
        "    max_count = 0\n",
        "    most_common_names = set()\n",
        "\n",
        "    # Sort the list of names\n",
        "    L.sort()\n",
        "\n",
        "    current_count = 0\n",
        "    current_name = None\n",
        "    for name in L:\n",
        "        if name != current_name:\n",
        "            current_name = name\n",
        "            current_count = 0\n",
        "        current_count += 1\n",
        "        if current_count > max_count:\n",
        "            max_count = current_count\n",
        "            most_common_names = {name}\n",
        "        elif current_count == max_count:\n",
        "            most_common_names.add(name)\n",
        "\n",
        "    if most_common_names:\n",
        "        return most_common_names\n",
        "    else:\n",
        "        return None\n",
        "\n",
        "def mostCommonName_linear(L):\n",
        "    counts = {}\n",
        "    max_count = 0\n",
        "    most_common_names = set()\n",
        "\n",
        "    for name in L:\n",
        "        counts[name] = counts.get(name, 0) + 1\n",
        "        if counts[name] > max_count:\n",
        "            max_count = counts[name]\n",
        "            most_common_names = {name}\n",
        "        elif counts[name] == max_count:\n",
        "            most_common_names.add(name)\n",
        "\n",
        "    if most_common_names:\n",
        "        return most_common_names\n",
        "    else:\n",
        "        return None\n",
        "\n",
        "def testMostCommonName():\n",
        "    print(\"Testing mostCommonName()...\", end=\"\")\n",
        "    assert(mostCommonName_quadratic([\"Jane\", \"Aaron\", \"Cindy\", \"Aaron\"])\n",
        "           == {\"Aaron\"})\n",
        "    assert(mostCommonName_quadratic([\"Jane\", \"Aaron\", \"Jane\", \"Cindy\", \"Aaron\"])\n",
        "           == {\"Aaron\", \"Jane\"})\n",
        "    assert(mostCommonName_quadratic([\"Cindy\"]) == {\"Cindy\"})\n",
        "    assert(mostCommonName_quadratic([\"Jane\", \"Aaron\", \"Cindy\"])\n",
        "           == {\"Aaron\", \"Cindy\", \"Jane\"})\n",
        "    assert(mostCommonName_quadratic([]) == None)\n",
        "    print(\"Passed!\")\n",
        "\n",
        "    print(\"Testing mostCommonName_nlogn()...\", end=\"\")\n",
        "    assert(mostCommonName_nlogn([\"Jane\", \"Aaron\", \"Cindy\", \"Aaron\"])\n",
        "           == {\"Aaron\"})\n",
        "    assert(mostCommonName_nlogn([\"Jane\", \"Aaron\", \"Jane\", \"Cindy\", \"Aaron\"])\n",
        "           == {\"Aaron\", \"Jane\"})\n",
        "    assert(mostCommonName_nlogn([\"Cindy\"]) == {\"Cindy\"})\n",
        "    assert(mostCommonName_nlogn([\"Jane\", \"Aaron\", \"Cindy\"])\n",
        "           == {\"Aaron\", \"Cindy\", \"Jane\"})\n",
        "    assert(mostCommonName_nlogn([]) == None)\n",
        "    print(\"Passed!\")\n",
        "\n",
        "    print(\"Testing mostCommonName_linear()...\", end=\"\")\n",
        "    assert(mostCommonName_linear([\"Jane\", \"Aaron\", \"Cindy\", \"Aaron\"])\n",
        "           == {\"Aaron\"})\n",
        "    assert(mostCommonName_linear([\"Jane\", \"Aaron\", \"Jane\", \"Cindy\", \"Aaron\"])\n",
        "           == {\"Aaron\", \"Jane\"})\n",
        "    assert(mostCommonName_linear([\"Cindy\"]) == {\"Cindy\"})\n",
        "    assert(mostCommonName_linear([\"Jane\", \"Aaron\", \"Cindy\"])\n",
        "           == {\"Aaron\", \"Cindy\", \"Jane\"})\n",
        "    assert(mostCommonName_linear([]) == None)\n",
        "    print(\"Passed!\")\n",
        "\n",
        "testMostCommonName()\n"
      ]
    },
    {
      "cell_type": "markdown",
      "metadata": {
        "id": "VP4IwabHj4UJ"
      },
      "source": [
        "Question 2"
      ]
    },
    {
      "cell_type": "code",
      "execution_count": null,
      "metadata": {
        "colab": {
          "base_uri": "https://localhost:8080/"
        },
        "id": "WyGdU_-bj4wh",
        "outputId": "a84f0cb3-6fea-4960-a809-2083453c6a28"
      },
      "outputs": [
        {
          "name": "stdout",
          "output_type": "stream",
          "text": [
            "betty\n"
          ]
        }
      ],
      "source": [
        "def mostPopularFriend(d):\n",
        "    counts = {}\n",
        "    for friends in d.values():\n",
        "        for friend in friends:\n",
        "            counts[friend] = counts.get(friend, 0) + 1\n",
        "    return max(counts, key=counts.get)\n",
        "\n",
        "# Test the function\n",
        "d = dict()\n",
        "d[\"fred\"] = set([\"wilma\", \"betty\", \"barney\"])\n",
        "d[\"wilma\"] = set([\"fred\", \"betty\", \"dino\"])\n",
        "\n",
        "print(mostPopularFriend(d))"
      ]
    },
    {
      "cell_type": "markdown",
      "metadata": {
        "id": "9Z3N06TlkVVU"
      },
      "source": [
        "Question 3"
      ]
    },
    {
      "cell_type": "code",
      "execution_count": null,
      "metadata": {
        "colab": {
          "base_uri": "https://localhost:8080/"
        },
        "id": "kjhaOyA0kWo6",
        "outputId": "07e5b46f-b0ac-4bd0-fcbc-f4b3e3da0558"
      },
      "outputs": [
        {
          "name": "stdout",
          "output_type": "stream",
          "text": [
            "{(-1, 0, 1), (-3, 1, 2)}\n"
          ]
        }
      ],
      "source": [
        "def findTriplets(L):\n",
        "    L.sort()\n",
        "    triplets = set()\n",
        "    n = len(L)\n",
        "\n",
        "    for i in range(n - 2):\n",
        "        left = i + 1\n",
        "        right = n - 1\n",
        "\n",
        "        while left < right:\n",
        "            total = L[i] + L[left] + L[right]\n",
        "            if total == 0:\n",
        "                triplets.add((L[i], L[left], L[right]))\n",
        "                left += 1\n",
        "                right -= 1\n",
        "            elif total < 0:\n",
        "                left += 1\n",
        "            else:\n",
        "                right -= 1\n",
        "\n",
        "    return triplets\n",
        "\n",
        "# Test the function\n",
        "print(findTriplets([-1, 0, -3, 2, 1]))\n"
      ]
    },
    {
      "cell_type": "markdown",
      "metadata": {
        "id": "mEWwd3XPkjvN"
      },
      "source": [
        "Question 4"
      ]
    },
    {
      "cell_type": "code",
      "execution_count": null,
      "metadata": {
        "colab": {
          "base_uri": "https://localhost:8080/"
        },
        "id": "1V4dRQtWkkKD",
        "outputId": "00f7669c-3256-4047-cdc1-9d58665f49e6"
      },
      "outputs": [
        {
          "name": "stdout",
          "output_type": "stream",
          "text": [
            "Testing Person Class...Passed!\n"
          ]
        }
      ],
      "source": [
        "class Person:\n",
        "    def __init__(self, name, age):\n",
        "        self.name = name\n",
        "        self.age = age\n",
        "        self.friends = []\n",
        "\n",
        "    def getName(self):\n",
        "        return self.name\n",
        "\n",
        "    def getAge(self):\n",
        "        return self.age\n",
        "\n",
        "    def getFriends(self):\n",
        "        return self.friends\n",
        "\n",
        "    def getFriendsNames(self):\n",
        "        return sorted([friend.getName() for friend in self.friends])\n",
        "\n",
        "    def addFriend(self, person):\n",
        "        if person not in self.friends:\n",
        "            self.friends.append(person)\n",
        "            person.addFriend(self)\n",
        "\n",
        "    def addFriends(self, people):\n",
        "        for person in people:\n",
        "            self.addFriend(person)\n",
        "\n",
        "def testPersonClass():\n",
        "    print('Testing Person Class...', end='')\n",
        "    fred = Person('fred', 32)\n",
        "    assert(isinstance(fred, Person))\n",
        "    assert(fred.getName() == 'fred')\n",
        "    assert(fred.getAge() == 32)\n",
        "    # Note: person.getFriends() returns a list of Person objects who\n",
        "    #       are the friends of this person, listed in the order that\n",
        "    #       they were added.\n",
        "    # Note: person.getFriendNames() returns a list of strings, the\n",
        "    #       names of the friends of this person.  This list is sorted!\n",
        "    assert(fred.getFriends() == [ ])\n",
        "    assert(fred.getFriendsNames() == [ ])\n",
        "\n",
        "    wilma = Person('wilma', 35)\n",
        "    assert(wilma.getName() == 'wilma')\n",
        "    assert(wilma.getAge() == 35)\n",
        "    assert(wilma.getFriends() == [ ])\n",
        "\n",
        "    wilma.addFriend(fred)\n",
        "    assert(wilma.getFriends() == [fred])\n",
        "    assert(wilma.getFriendsNames() == ['fred'])\n",
        "    assert(fred.getFriends() == [wilma]) # friends are mutual!\n",
        "    assert(fred.getFriendsNames() == ['wilma'])\n",
        "\n",
        "    wilma.addFriend(fred)\n",
        "    assert(wilma.getFriends() == [fred]) # don't add twice!\n",
        "\n",
        "    betty = Person('betty', 29)\n",
        "    fred.addFriend(betty)\n",
        "    assert(fred.getFriendsNames() == ['betty', 'wilma'])\n",
        "\n",
        "    pebbles = Person('pebbles', 4)\n",
        "    betty.addFriend(pebbles)\n",
        "    assert(betty.getFriendsNames() == ['fred', 'pebbles'])\n",
        "\n",
        "    barney = Person('barney', 28)\n",
        "    barney.addFriend(pebbles)\n",
        "    barney.addFriend(betty)\n",
        "    barney.addFriends(fred.getFriends()) # add ALL of Fred's friends as Barney's friends\n",
        "    assert(barney.getFriends() == [pebbles, betty, wilma])\n",
        "    assert(barney.getFriendsNames() == ['betty', 'pebbles', 'wilma'])\n",
        "    fred.addFriend(wilma)\n",
        "    fred.addFriend(barney)\n",
        "    assert(fred.getFriends() == [wilma, betty, barney])\n",
        "    assert(fred.getFriendsNames() == ['barney', 'betty', 'wilma']) # sorted!\n",
        "    assert(barney.getFriends() == [pebbles, betty, wilma, fred])\n",
        "    assert(barney.getFriendsNames() == ['betty', 'fred', 'pebbles', 'wilma'])\n",
        "    print('Passed!')\n",
        "\n",
        "testPersonClass()\n"
      ]
    },
    {
      "cell_type": "markdown",
      "metadata": {
        "id": "jXctftY9vW1w"
      },
      "source": [
        "Question 5"
      ]
    },
    {
      "cell_type": "code",
      "execution_count": null,
      "metadata": {
        "colab": {
          "base_uri": "https://localhost:8080/"
        },
        "id": "414IZ_m0vX2m",
        "outputId": "8c2bb113-db3a-428e-f8b8-ca435cb7bf3c"
      },
      "outputs": [
        {
          "name": "stdout",
          "output_type": "stream",
          "text": [
            "None\n",
            "(5, 2)\n",
            "(10, -8)\n",
            "None\n"
          ]
        }
      ],
      "source": [
        "def getPairSum(L, target):\n",
        "    seen = set()\n",
        "    for num in L:\n",
        "        complement = target - num\n",
        "        if complement in seen:\n",
        "            return (complement, num)\n",
        "        seen.add(num)\n",
        "    return None\n",
        "\n",
        "# Test cases\n",
        "print(getPairSum([1], 1))\n",
        "print(getPairSum([5, 2], 7))\n",
        "print(getPairSum([10, -1, 1, -8, 3, 1], 2))\n",
        "print(getPairSum([10, -1, 1, -8, 3, 1], 10))\n"
      ]
    },
    {
      "cell_type": "markdown",
      "metadata": {
        "id": "kMgkzn_9voUm"
      },
      "source": [
        "Question 6"
      ]
    },
    {
      "cell_type": "code",
      "execution_count": null,
      "metadata": {
        "colab": {
          "base_uri": "https://localhost:8080/"
        },
        "id": "ejc1SX-Dvqr5",
        "outputId": "edf3a24f-591d-4b0b-cb7a-bc6d803f405c"
      },
      "outputs": [
        {
          "name": "stdout",
          "output_type": "stream",
          "text": [
            "True\n",
            "False\n"
          ]
        }
      ],
      "source": [
        "def containsPythagoreanTriple(L):\n",
        "    squares = set()\n",
        "    for num in L:\n",
        "        squares.add(num * num)\n",
        "\n",
        "    n = len(L)\n",
        "    for i in range(n):\n",
        "        for j in range(i + 1, n):\n",
        "            if (L[i] * L[i] + L[j] * L[j]) in squares:\n",
        "                return True\n",
        "    return False\n",
        "\n",
        "# Test cases\n",
        "print(containsPythagoreanTriple([1, 3, 6, 2, 5, 1, 4]))\n",
        "print(containsPythagoreanTriple([1, 3, 6, 2, 1, 4]))\n"
      ]
    },
    {
      "cell_type": "markdown",
      "metadata": {
        "id": "HoHNUzXPwISh"
      },
      "source": [
        "Question 7"
      ]
    },
    {
      "cell_type": "code",
      "execution_count": null,
      "metadata": {
        "colab": {
          "base_uri": "https://localhost:8080/"
        },
        "id": "3yL48xz8wKMH",
        "outputId": "8c948424-2d9d-466b-c852-cef18a3dbbc1"
      },
      "outputs": [
        {
          "name": "stdout",
          "output_type": "stream",
          "text": [
            "{'Bohemian Rhapsody': 3, 'Roma': 1, 'Black Panther': 2, 'The Favourite': 1, 'Green Book': 1}\n"
          ]
        }
      ],
      "source": [
        "def movieAwards(oscarResults):\n",
        "    awards = {}\n",
        "    for category, movie in oscarResults:\n",
        "        awards[movie] = awards.get(movie, 0) + 1\n",
        "    return awards\n",
        "\n",
        "# Test case\n",
        "oscarResults = {\n",
        "    (\"Best Picture\", \"Green Book\"),\n",
        "    (\"Best Actor\", \"Bohemian Rhapsody\"),\n",
        "    (\"Best Actress\", \"The Favourite\"),\n",
        "    (\"Film Editing\", \"Bohemian Rhapsody\"),\n",
        "    (\"Best Original Score\", \"Black Panther\"),\n",
        "    (\"Costume Design\", \"Black Panther\"),\n",
        "    (\"Sound Editing\", \"Bohemian Rhapsody\"),\n",
        "    (\"Best Director\", \"Roma\")\n",
        "}\n",
        "\n",
        "print(movieAwards(oscarResults))\n"
      ]
    },
    {
      "cell_type": "markdown",
      "metadata": {
        "id": "HLOKHKZ7yGQ2"
      },
      "source": [
        "Question 8"
      ]
    },
    {
      "cell_type": "code",
      "execution_count": null,
      "metadata": {
        "colab": {
          "base_uri": "https://localhost:8080/"
        },
        "id": "_lR-ruCeyITU",
        "outputId": "91968c8c-2c8f-4488-ed1f-f1f1e17fcb3e"
      },
      "outputs": [
        {
          "name": "stdout",
          "output_type": "stream",
          "text": [
            "{'jon': {'jaime', 'pod'}, 'tyrion': {'brienne', 'arya'}, 'arya': {'tyrion'}, 'jaime': {'pod', 'jon'}, 'brienne': {'tyrion'}, 'pod': {'jon'}, 'ramsay': set()}\n"
          ]
        }
      ],
      "source": [
        "def friendsOfFriends(d):\n",
        "    friends_of_friends = {}\n",
        "    for person, friends in d.items():\n",
        "        friends_of_friends[person] = set()\n",
        "        for friend in friends:\n",
        "            for friend_of_friend in d.get(friend, set()):\n",
        "                if friend_of_friend != person and friend_of_friend not in friends:\n",
        "                    friends_of_friends[person].add(friend_of_friend)\n",
        "    return friends_of_friends\n",
        "\n",
        "# Test case\n",
        "d = {\n",
        "    \"jon\": {\"arya\", \"tyrion\"},\n",
        "    \"tyrion\": {\"jon\", \"jaime\", \"pod\"},\n",
        "    \"arya\": {\"jon\"},\n",
        "    \"jaime\": {\"tyrion\", \"brienne\"},\n",
        "    \"brienne\": {\"jaime\", \"pod\"},\n",
        "    \"pod\": {\"tyrion\", \"brienne\", \"jaime\"},\n",
        "    \"ramsay\": set()\n",
        "}\n",
        "\n",
        "print(friendsOfFriends(d))\n"
      ]
    },
    {
      "cell_type": "markdown",
      "metadata": {
        "id": "BM9BdR_8ye9I"
      },
      "source": [
        "Question 9"
      ]
    },
    {
      "cell_type": "code",
      "execution_count": null,
      "metadata": {
        "colab": {
          "background_save": true,
          "base_uri": "https://localhost:8080/"
        },
        "id": "GS60Bf5pygVK",
        "outputId": "4d386699-6ce7-4a3a-b6fa-f6e7979b51d8"
      },
      "outputs": [
        {
          "name": "stdout",
          "output_type": "stream",
          "text": [
            "pygame 2.5.2 (SDL 2.28.2, Python 3.10.12)\n",
            "Hello from the pygame community. https://www.pygame.org/contribute.html\n"
          ]
        }
      ],
      "source": [
        "import random\n",
        "import pygame\n",
        "import sys\n",
        "\n",
        "# Set up pygame\n",
        "pygame.init()\n",
        "WINDOW_WIDTH = 800\n",
        "WINDOW_HEIGHT = 600\n",
        "WHITE = (255, 255, 255)\n",
        "BLACK = (0, 0, 0)\n",
        "FONT_SIZE = 24\n",
        "FONT = pygame.font.Font(None, FONT_SIZE)\n",
        "screen = pygame.display.set_mode((WINDOW_WIDTH, WINDOW_HEIGHT))\n",
        "pygame.display.set_caption(\"Bubble Sort Visualization\")\n",
        "\n",
        "# Helper function to draw the list of numbers\n",
        "def draw_numbers(numbers):\n",
        "    screen.fill(WHITE)\n",
        "    for i, number in enumerate(numbers):\n",
        "        pygame.draw.rect(screen, BLACK, (i * 35, WINDOW_HEIGHT - number * 20, 30, number * 20))\n",
        "        text_surface = FONT.render(str(number), True, WHITE)\n",
        "        screen.blit(text_surface, (i * 35 + 10, WINDOW_HEIGHT - number * 20 - FONT_SIZE))\n",
        "\n",
        "# Bubble Sort algorithm\n",
        "def bubble_sort(numbers):\n",
        "    n = len(numbers)\n",
        "    for i in range(n):\n",
        "        for j in range(0, n - i - 1):\n",
        "            if numbers[j] > numbers[j + 1]:\n",
        "                numbers[j], numbers[j + 1] = numbers[j + 1], numbers[j]\n",
        "                draw_numbers(numbers)\n",
        "                pygame.display.update()\n",
        "                pygame.time.delay(100)\n",
        "\n",
        "# Animation function\n",
        "def bonus_sort_animation():\n",
        "    numbers = random.sample(range(1, 21), 20)\n",
        "    bubble_sort(numbers)\n",
        "    running = True\n",
        "    while running:\n",
        "        for event in pygame.event.get():\n",
        "            if event.type == pygame.QUIT:\n",
        "                pygame.quit()\n",
        "                sys.exit()\n",
        "            if event.type == pygame.KEYDOWN:\n",
        "                if event.key == pygame.K_LEFT:\n",
        "                    return\n",
        "                if event.key == pygame.K_RIGHT:\n",
        "                    return\n",
        "                if event.key == pygame.K_r:\n",
        "                    numbers = random.sample(range(1, 21), 20)\n",
        "                    bubble_sort(numbers)\n",
        "        pygame.display.update()\n",
        "\n",
        "# Run the animation\n",
        "if __name__ == \"__main__\":\n",
        "    bonus_sort_animation()\n"
      ]
    }
  ],
  "metadata": {
    "colab": {
      "provenance": [],
      "authorship_tag": "ABX9TyOpBBdF+Ly6l4t54feWIdvT",
      "include_colab_link": true
    },
    "kernelspec": {
      "display_name": "Python 3",
      "name": "python3"
    },
    "language_info": {
      "name": "python"
    }
  },
  "nbformat": 4,
  "nbformat_minor": 0
}