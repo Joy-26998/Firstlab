{
  "nbformat": 4,
  "nbformat_minor": 0,
  "metadata": {
    "colab": {
      "provenance": [],
      "authorship_tag": "ABX9TyNSu9OAW/E0hXvNOgVWtWaG",
      "include_colab_link": true
    },
    "kernelspec": {
      "name": "python3",
      "display_name": "Python 3"
    },
    "language_info": {
      "name": "python"
    }
  },
  "cells": [
    {
      "cell_type": "markdown",
      "metadata": {
        "id": "view-in-github",
        "colab_type": "text"
      },
      "source": [
        "<a href=\"https://colab.research.google.com/github/Joy-26998/Firstlab/blob/main/Hw_week_5.ipynb\" target=\"_parent\"><img src=\"https://colab.research.google.com/assets/colab-badge.svg\" alt=\"Open In Colab\"/></a>"
      ]
    },
    {
      "cell_type": "markdown",
      "source": [
        "**Extra Practices**"
      ],
      "metadata": {
        "id": "9rlskmo8sXRw"
      }
    },
    {
      "cell_type": "markdown",
      "source": [
        "Question 2: **countFiles(path)**"
      ],
      "metadata": {
        "id": "-BtWU1j3sbMy"
      }
    },
    {
      "cell_type": "code",
      "source": [
        "import os\n",
        "\n",
        "def countFiles(path):\n",
        "    # Initialize total count\n",
        "    total_files = 0\n",
        "\n",
        "    # Check if the path exists and is a directory\n",
        "    if os.path.isdir(path):\n",
        "        # Iterate through items in the directory\n",
        "        for item in os.listdir(path):\n",
        "            # Form the full path of the item\n",
        "            item_path = os.path.join(path, item)\n",
        "            # If the item is a file, increment the count\n",
        "            if os.path.isfile(item_path):\n",
        "                total_files += 1\n",
        "            # If the item is a directory, recursively call countFiles on it\n",
        "            elif os.path.isdir(item_path):\n",
        "                total_files += countFiles(item_path)\n",
        "\n",
        "    return total_files\n",
        "\n",
        "# Example usage:\n",
        "print(countFiles(\"sampleFiles/folderB/folderF/folderG\"))  # Should return 0\n",
        "print(countFiles(\"sampleFiles/folderB/folderF\"))          # Should return 0\n",
        "print(countFiles(\"sampleFiles/folderB\"))                  # Should return 2\n",
        "print(countFiles(\"sampleFiles/folderA/folderC\"))          # Should return 4\n",
        "print(countFiles(\"sampleFiles/folderA\"))                  # Should return 6\n",
        "print(countFiles(\"sampleFiles\"))                          # Should return 10\n",
        "\n",
        "# Time Complexity:\n",
        "# Best Case: O(1) if the directory is empty or if the path provided is not a directory.\n",
        "# Average Case: O(n) where n is the total number of files and directories in the given directory and all its subdirectories.\n",
        "# Worst Case: O(n) where n is the total number of files and directories in the given directory and all its subdirectories. This occurs when we have to traverse all files and directories in the entire directory structure.\n",
        "\n",
        "# Space Complexity:\n",
        "# Best Case: O(1) if there is no recursion needed or if the directory is empty.\n",
        "# Average Case: O(d) where d is the maximum depth of the directory tree. This is due to the recursive stack space needed for traversing directories.\n",
        "# Worst Case: O(d) where d is the maximum depth of the directory tree. This occurs when the directory structure is deeply nested, requiring more space for the recursive calls.\n"
      ],
      "metadata": {
        "colab": {
          "base_uri": "https://localhost:8080/"
        },
        "id": "IbeNt41xb-CK",
        "outputId": "bad415e7-08de-496a-8894-cdbcdf828ed2"
      },
      "execution_count": 12,
      "outputs": [
        {
          "output_type": "stream",
          "name": "stdout",
          "text": [
            "0\n",
            "0\n",
            "0\n",
            "0\n",
            "0\n",
            "0\n"
          ]
        }
      ]
    },
    {
      "cell_type": "markdown",
      "source": [
        "Question 2: **findRTP(digits)**"
      ],
      "metadata": {
        "id": "V6sJ-1FiuraB"
      }
    },
    {
      "cell_type": "code",
      "source": [
        "def isPrime(n):\n",
        "    if n <= 1:\n",
        "        return False\n",
        "    if n <= 3:\n",
        "        return True\n",
        "    if n % 2 == 0 or n % 3 == 0:\n",
        "        return False\n",
        "    i = 5\n",
        "    while i * i <= n:\n",
        "        if n % i == 0 or n % (i + 2) == 0:\n",
        "            return False\n",
        "        i += 6\n",
        "    return True\n",
        "\n",
        "def findRTPHelper(current, digits):\n",
        "    if len(str(current)) == digits:\n",
        "        return current\n",
        "\n",
        "    for digit in range(1, 10):\n",
        "        candidate = current * 10 + digit\n",
        "        if isPrime(candidate):\n",
        "            result = findRTPHelper(candidate, digits)\n",
        "            if result is not None:\n",
        "                return result\n",
        "    return None\n",
        "\n",
        "def findRTP(digits):\n",
        "    if digits < 1:\n",
        "        return None\n",
        "\n",
        "    for first_digit in [2, 3, 5, 7]:\n",
        "        result = findRTPHelper(first_digit, digits)\n",
        "        if result is not None:\n",
        "            return result\n",
        "    return None\n",
        "\n",
        "# Test cases\n",
        "def testFindRTP():\n",
        "    print(findRTP(1)) # Expected 2, 3, 5, or 7 (one-digit primes)\n",
        "    print(findRTP(2)) # Expected 23 (smallest two-digit RTP)\n",
        "    print(findRTP(3)) # Expected 233 (smallest three-digit RTP)\n",
        "    print(findRTP(4)) # Expected 2333 (smallest four-digit RTP)\n",
        "    print(findRTP(5)) # Expected 23333 (smallest five-digit RTP)\n",
        "    print(findRTP(8)) # Expected 23399339 (smallest eight-digit RTP)\n",
        "    print(\"All test cases passed!\")\n",
        "\n",
        "testFindRTP()\n",
        "\n",
        "# Time Complexity:\n",
        "# Best Case: O(d * p) where d is the number of digits and p is the number of primes. In practice, this is very fast.\n",
        "# Average Case: O(d * p) where d is the number of digits and p is the number of primes.\n",
        "# Worst Case: O(d * p) where d is the number of digits and p is the number of primes.\n",
        "\n",
        "# Space Complexity:\n",
        "# Best Case: O(d) where d is the number of digits due to the recursion stack.\n",
        "# Average Case: O(d) where d is the number of digits.\n",
        "# Worst Case: O(d) where d is the number of digits.\n"
      ],
      "metadata": {
        "colab": {
          "base_uri": "https://localhost:8080/"
        },
        "id": "rbupDjSfSNSj",
        "outputId": "a03b2ec9-639f-451c-90ff-79bddc306535"
      },
      "execution_count": 4,
      "outputs": [
        {
          "output_type": "stream",
          "name": "stdout",
          "text": [
            "2\n",
            "23\n",
            "233\n",
            "2333\n",
            "23333\n",
            "23399339\n",
            "All test cases passed!\n"
          ]
        }
      ]
    },
    {
      "cell_type": "markdown",
      "source": [
        "Question 3: **pegSolitaire**"
      ],
      "metadata": {
        "id": "J7EbE7xlwDXg"
      }
    },
    {
      "cell_type": "code",
      "source": [
        "def getPossibleMoves(board):\n",
        "    moves = []\n",
        "    rows = len(board)\n",
        "    cols = len(board[0])\n",
        "    for row in range(rows):\n",
        "        for col in range(cols):\n",
        "            if board[row][col] == 'O':\n",
        "                for (dr, dc) in [(-2, 0), (2, 0), (0, -2), (0, 2)]:\n",
        "                    r1, c1 = row + dr // 2, col + dc // 2\n",
        "                    r2, c2 = row + dr, col + dc\n",
        "                    if 0 <= r2 < rows and 0 <= c2 < cols and board[r1][c1] == 'O' and board[r2][c2] == '.':\n",
        "                        moves.append((row, col, r2, c2))\n",
        "    return moves\n",
        "\n",
        "def applyMove(board, move):\n",
        "    (fromRow, fromCol, toRow, toCol) = move\n",
        "    board = [list(row) for row in board]\n",
        "    board[fromRow][fromCol] = '.'\n",
        "    board[toRow][toCol] = 'O'\n",
        "    board[(fromRow + toRow) // 2][(fromCol + toCol) // 2] = '.'\n",
        "    return [\"\".join(row) for row in board]\n",
        "\n",
        "def isSolved(board):\n",
        "    return sum(row.count('O') for row in board) == 1\n",
        "\n",
        "def pegSolitaireHelper(board, moves):\n",
        "    if isSolved(board):\n",
        "        return moves\n",
        "    possibleMoves = getPossibleMoves(board)\n",
        "    for move in possibleMoves:\n",
        "        newBoard = applyMove(board, move)\n",
        "        result = pegSolitaireHelper(newBoard, moves + [move])\n",
        "        if result:\n",
        "            return result\n",
        "    return None\n",
        "\n",
        "def pegSolitaire(board):\n",
        "    board = board.splitlines()\n",
        "    return pegSolitaireHelper(board, [])\n",
        "\n",
        "# Test cases\n",
        "board10 = \"\"\"\\\n",
        "  ...\n",
        "  .O.\n",
        "..OO.O.\n",
        ".O...O.\n",
        "..O.O..\n",
        "  O.O\n",
        "  ...\n",
        "\"\"\"\n",
        "board14 = \"\"\"\\\n",
        "  ...\n",
        "  OO.\n",
        "..O.OO.\n",
        "OO..OO.\n",
        ".OOO..O\n",
        "  .O.\n",
        "  ...\n",
        "\"\"\"\n",
        "board16 = \"\"\"\\\n",
        "  ...\n",
        "  OO.\n",
        "..OO...\n",
        "..OO.OO\n",
        "OOO..OO\n",
        "  OO.\n",
        "  .O.\n",
        "\"\"\"\n",
        "board32 = \"\"\"\\\n",
        "  OOO\n",
        "  OOO\n",
        "OOOOOOO\n",
        "OOO.OOO\n",
        "OOOOOOO\n",
        "  OOO\n",
        "  OOO\n",
        "\"\"\"\n",
        "\n",
        "# Example test case\n",
        "print(pegSolitaire(board10)) # Test with the 10 pegs board\n",
        "\n",
        "# Time Complexity:\n",
        "# Best Case: O(b^d) where b is the branching factor and d is the depth of the search tree.\n",
        "# Average Case: O(b^d) where b is the branching factor and d is the depth of the search tree.\n",
        "# Worst Case: O(b^d) where b is the branching factor and d is the depth of the search tree.\n",
        "\n",
        "# Space Complexity:\n",
        "# Best Case: O(d) where d is the depth of the search tree due to the recursion stack.\n",
        "# Average Case: O(d) where d is the depth of the search tree.\n",
        "# Worst Case: O(d) where d is the depth of the search tree.\n"
      ],
      "metadata": {
        "colab": {
          "base_uri": "https://localhost:8080/"
        },
        "id": "UO2ilFdHTBh1",
        "outputId": "cb9235dc-c7a7-43a8-c97d-250ddca0c1f4"
      },
      "execution_count": 5,
      "outputs": [
        {
          "output_type": "stream",
          "name": "stdout",
          "text": [
            "[(1, 3, 3, 3), (2, 5, 4, 5), (4, 5, 4, 3), (3, 3, 5, 3), (5, 2, 3, 2), (2, 2, 4, 2), (5, 4, 5, 2), (5, 2, 3, 2), (3, 1, 3, 3)]\n"
          ]
        }
      ]
    },
    {
      "cell_type": "markdown",
      "source": [
        "Part A"
      ],
      "metadata": {
        "id": "ScTFFRorxvAT"
      }
    },
    {
      "cell_type": "markdown",
      "source": [
        "Question 1: **Recursion-Only oddCount(L) **"
      ],
      "metadata": {
        "id": "sBvV3HHByCii"
      }
    },
    {
      "cell_type": "code",
      "source": [
        "def oddCount(L):\n",
        "    # Base case: if the list is empty, return 0\n",
        "    if not L:\n",
        "        return 0\n",
        "\n",
        "    # Recursive case\n",
        "    first, *rest = L\n",
        "    if first % 2 == 1:\n",
        "        return 1 + oddCount(rest)\n",
        "    else:\n",
        "        return oddCount(rest)\n",
        "\n",
        "# Test cases\n",
        "def testOddCount():\n",
        "    assert(oddCount([2, 4, 6, 8]) == 0)\n",
        "    assert(oddCount([1, 2, 3, 4, 5]) == 3)\n",
        "    assert(oddCount([7, 3, 7, 3]) == 4)\n",
        "    assert(oddCount([]) == 0)\n",
        "    assert(oddCount([2, 4, 1, 6, 8]) == 1)\n",
        "    print(\"All test cases passed!\")\n",
        "\n",
        "testOddCount()\n",
        "\n",
        "# Time Complexity:\n",
        "# Best Case: O(n) where n is the length of the list, as it needs to check all elements.\n",
        "# Average Case: O(n) where n is the length of the list.\n",
        "# Worst Case: O(n) where n is the length of the list.\n",
        "\n",
        "# Space Complexity:\n",
        "# Best Case: O(n) where n is the length of the list due to the recursion stack.\n",
        "# Average Case: O(n) where n is the length of the list.\n",
        "# Worst Case: O(n) where n is the length of the list.\n"
      ],
      "metadata": {
        "colab": {
          "base_uri": "https://localhost:8080/"
        },
        "id": "OfiXv5hlyHZu",
        "outputId": "0c67de44-23de-4711-97b9-4c999a1b28d9"
      },
      "execution_count": 2,
      "outputs": [
        {
          "output_type": "stream",
          "name": "stdout",
          "text": [
            "All test cases passed!\n"
          ]
        }
      ]
    },
    {
      "cell_type": "markdown",
      "source": [
        "Question 2:\n",
        "**Recursion-Only oddSum(L) **"
      ],
      "metadata": {
        "id": "Cy5PpDmqyOts"
      }
    },
    {
      "cell_type": "code",
      "source": [
        "def oddSum(L):\n",
        "    # Base case: if the list is empty, return 0\n",
        "    if not L:\n",
        "        return 0\n",
        "\n",
        "    # Recursive case\n",
        "    first, *rest = L\n",
        "    if first % 2 == 1:\n",
        "        return first + oddSum(rest)\n",
        "    else:\n",
        "        return oddSum(rest)\n",
        "\n",
        "# Test cases\n",
        "def testOddSum():\n",
        "    assert(oddSum([2, 4, 6, 8]) == 0)\n",
        "    assert(oddSum([1, 2, 3, 4, 5]) == 9)\n",
        "    assert(oddSum([7, 3, 7, 3]) == 20)\n",
        "    assert(oddSum([]) == 0)\n",
        "    assert(oddSum([2, 4, 1, 6, 8]) == 1)\n",
        "    print(\"All test cases passed!\")\n",
        "\n",
        "testOddSum()\n",
        "\n",
        "# Time Complexity:\n",
        "# Best Case: O(n) where n is the length of the list, as it needs to check all elements.\n",
        "# Average Case: O(n) where n is the length of the list.\n",
        "# Worst Case: O(n) where n is the length of the list.\n",
        "\n",
        "# Space Complexity:\n",
        "# Best Case: O(n) where n is the length of the list due to the recursion stack.\n",
        "# Average Case: O(n) where n is the length of the list.\n",
        "# Worst Case: O(n) where n is the length of the list.\n"
      ],
      "metadata": {
        "colab": {
          "base_uri": "https://localhost:8080/"
        },
        "id": "wt7xvFvGRDje",
        "outputId": "d5ffca84-f083-4626-b9d4-2991e3544dcc"
      },
      "execution_count": 1,
      "outputs": [
        {
          "output_type": "stream",
          "name": "stdout",
          "text": [
            "All test cases passed!\n"
          ]
        }
      ]
    },
    {
      "cell_type": "markdown",
      "source": [
        "Question 3: **Recursion-Only oddsOnly(L) **"
      ],
      "metadata": {
        "id": "HqbHLNbmypgR"
      }
    },
    {
      "cell_type": "code",
      "source": [
        "def oddsOnly(L):\n",
        "    # Base case: if the list is empty, return an empty list\n",
        "    if not L:\n",
        "        return []\n",
        "\n",
        "    # Recursive case\n",
        "    first, *rest = L\n",
        "    if first % 2 == 1:\n",
        "        return [first] + oddsOnly(rest)\n",
        "    else:\n",
        "        return oddsOnly(rest)\n",
        "\n",
        "# Test cases\n",
        "def testOddsOnly():\n",
        "    assert(oddsOnly([2, 4, 6, 8]) == [])\n",
        "    assert(oddsOnly([1, 2, 3, 4, 5]) == [1, 3, 5])\n",
        "    assert(oddsOnly([7, 3, 7, 3]) == [7, 3, 7, 3])\n",
        "    assert(oddsOnly([]) == [])\n",
        "    assert(oddsOnly([2, 4, 1, 6, 8]) == [1])\n",
        "    print(\"All test cases passed!\")\n",
        "\n",
        "testOddsOnly()\n",
        "\n",
        "# Time Complexity:\n",
        "# Best Case: O(n) where n is the length of the list, as it needs to check all elements.\n",
        "# Average Case: O(n) where n is the length of the list.\n",
        "# Worst Case: O(n) where n is the length of the list.\n",
        "\n",
        "# Space Complexity:\n",
        "# Best Case: O(n) where n is the length of the list due to the recursion stack.\n",
        "# Average Case: O(n) where n is the length of the list.\n",
        "# Worst Case: O(n) where n is the length of the list.\n"
      ],
      "metadata": {
        "colab": {
          "base_uri": "https://localhost:8080/"
        },
        "id": "ppR9HX26AkG2",
        "outputId": "3334df7a-a2d0-4e9f-9c09-79645a43134e"
      },
      "execution_count": null,
      "outputs": [
        {
          "output_type": "stream",
          "name": "stdout",
          "text": [
            "All test cases passed!\n"
          ]
        }
      ]
    },
    {
      "cell_type": "markdown",
      "source": [
        "Question 4: **Recursion-Only oddsOnly(L)**"
      ],
      "metadata": {
        "id": "m27clP1nyv07"
      }
    },
    {
      "cell_type": "code",
      "source": [
        "def maxOdd(L):\n",
        "    # Base case: if the list is empty, return None\n",
        "    if not L:\n",
        "        return None\n",
        "\n",
        "    # Recursive case\n",
        "    first, *rest = L\n",
        "    if first % 2 == 1:\n",
        "        restMaxOdd = maxOdd(rest)\n",
        "        if restMaxOdd is None:\n",
        "            return first\n",
        "        else:\n",
        "            return max(first, restMaxOdd)\n",
        "    else:\n",
        "        return maxOdd(rest)\n",
        "\n",
        "# Test cases\n",
        "def testMaxOdd():\n",
        "    assert(maxOdd([2, 4, 6, 8]) == None)\n",
        "    assert(maxOdd([1, 2, 3, 4, 5]) == 5)\n",
        "    assert(maxOdd([7, 3, 7, 3]) == 7)\n",
        "    assert(maxOdd([]) == None)\n",
        "    assert(maxOdd([2, 4, 1, 6, 8]) == 1)\n",
        "    print(\"All test cases passed!\")\n",
        "\n",
        "testMaxOdd()\n",
        "\n",
        "# Time Complexity:\n",
        "# Best Case: O(n) where n is the length of the list, as it needs to check all elements.\n",
        "# Average Case: O(n) where n is the length of the list.\n",
        "# Worst Case: O(n) where n is the length of the list.\n",
        "\n",
        "# Space Complexity:\n",
        "# Best Case: O(n) where n is the length of the list due to the recursion stack.\n",
        "# Average Case: O(n) where n is the length of the list.\n",
        "# Worst Case: O(n) where n is the length of the list.\n"
      ],
      "metadata": {
        "colab": {
          "base_uri": "https://localhost:8080/"
        },
        "id": "ALelmqy7ASqP",
        "outputId": "db22a123-e56c-4727-9bf3-60186bcdcf37"
      },
      "execution_count": null,
      "outputs": [
        {
          "output_type": "stream",
          "name": "stdout",
          "text": [
            "All test cases passed!\n"
          ]
        }
      ]
    },
    {
      "cell_type": "markdown",
      "source": [
        "**Part B**"
      ],
      "metadata": {
        "id": "spoavn--zrOg"
      }
    },
    {
      "cell_type": "markdown",
      "source": [
        "Question 6:** Recursion-Only hasConsecutiveDigits(n)**"
      ],
      "metadata": {
        "id": "6VUwRUoEztfz"
      }
    },
    {
      "cell_type": "code",
      "source": [
        "def hasConsecutiveDigits(n):\n",
        "    # Handle negative numbers by converting to absolute value\n",
        "    n = abs(n)\n",
        "\n",
        "    # Base case: if the number has only one digit, return False\n",
        "    if n < 10:\n",
        "        return False\n",
        "\n",
        "    # Check if the last two digits are the same\n",
        "    if n % 10 == (n // 10) % 10:\n",
        "        return True\n",
        "\n",
        "    # Recursive case: remove the last digit and check the rest of the number\n",
        "    return hasConsecutiveDigits(n // 10)\n",
        "\n",
        "# Test cases\n",
        "def testHasConsecutiveDigits():\n",
        "    print(\"Beginning hasConsecutiveDigits test cases...\")\n",
        "    assert(hasConsecutiveDigits(1123) == True)\n",
        "    assert(hasConsecutiveDigits(-1123) == True)\n",
        "    assert(hasConsecutiveDigits(1234) == False)\n",
        "    assert(hasConsecutiveDigits(0) == False)\n",
        "    assert(hasConsecutiveDigits(1233) == True)\n",
        "    print(\"Passed!\")\n",
        "\n",
        "testHasConsecutiveDigits()\n",
        "\n",
        "# Best Case: O(1)\n",
        "# Average Case: O(log10(n))\n",
        "# Worst Case: O(log10(n))\n",
        "\n",
        "# Best Case: O(1)\n",
        "# Average Case: O(log10(n))\n",
        "# Worst Case: O(log10(n))\n"
      ],
      "metadata": {
        "colab": {
          "base_uri": "https://localhost:8080/"
        },
        "id": "8gtKZ4Qv0Uw6",
        "outputId": "0f998fc7-d193-49c9-a737-f5bb3b28ddd0"
      },
      "execution_count": null,
      "outputs": [
        {
          "output_type": "stream",
          "name": "stdout",
          "text": [
            "Beginning hasConsecutiveDigits test cases...\n",
            "Passed!\n"
          ]
        }
      ]
    },
    {
      "cell_type": "markdown",
      "source": [
        "Question 7:\n",
        "**Recursion-Only alternatingSum(L) **"
      ],
      "metadata": {
        "id": "YOoKy_vq07bY"
      }
    },
    {
      "cell_type": "code",
      "source": [
        "def alternatingSum(L):\n",
        "    def helper(L, index):\n",
        "        # Base case: if the list is empty, return 0\n",
        "        if index == len(L):\n",
        "            return 0\n",
        "        # Alternate between adding and subtracting\n",
        "        if index % 2 == 0:\n",
        "            return L[index] + helper(L, index + 1)\n",
        "        else:\n",
        "            return -L[index] + helper(L, index + 1)\n",
        "\n",
        "    return helper(L, 0)\n",
        "\n",
        "# Test cases\n",
        "def testAlternatingSum():\n",
        "    print(\"Beginning alternatingSum test cases...\")\n",
        "    assert(alternatingSum([1, 2, 3, 4, 5]) == 3)\n",
        "    assert(alternatingSum([]) == 0)\n",
        "    assert(alternatingSum([1]) == 1)\n",
        "    assert(alternatingSum([1, 2]) == -1)\n",
        "    assert(alternatingSum([1, 2, 3]) == 2)\n",
        "    print(\"Passed!\")\n",
        "\n",
        "testAlternatingSum()\n",
        "\n",
        "# Time Complexity:\n",
        "# Best Case: O(1) (for an empty list)\n",
        "# Average Case: O(n) (where n is the length of the list)\n",
        "# Worst Case: O(n) (where n is the length of the list)\n",
        "\n",
        "# Space Complexity:\n",
        "# Best Case: O(1) (for an empty list)\n",
        "# Average Case: O(n) (due to the recursion stack)\n",
        "# Worst Case: O(n) (due to the recursion stack)\n"
      ],
      "metadata": {
        "colab": {
          "base_uri": "https://localhost:8080/"
        },
        "id": "gU--Non75Tw1",
        "outputId": "1a5f31b4-9daa-48e5-9a52-37610f34f87b"
      },
      "execution_count": null,
      "outputs": [
        {
          "output_type": "stream",
          "name": "stdout",
          "text": [
            "Beginning alternatingSum test cases...\n",
            "Passed!\n"
          ]
        }
      ]
    },
    {
      "cell_type": "markdown",
      "source": [
        "**Quiz 8: Version A**"
      ],
      "metadata": {
        "id": "8S1v72jD5w3F"
      }
    },
    {
      "cell_type": "markdown",
      "source": [
        "Free Response : **CreditCounter Class**"
      ],
      "metadata": {
        "id": "UDuJ6ph9546s"
      }
    },
    {
      "cell_type": "code",
      "source": [
        "class CreditCounter:\n",
        "    def __init__(self, initialCredits):\n",
        "        self.credits = initialCredits.copy()\n",
        "\n",
        "    def getCredits(self, name):\n",
        "        return self.credits.get(name, None)\n",
        "\n",
        "    def addScore(self, name, score):\n",
        "        if name in self.credits:\n",
        "            self.credits[name] += score\n",
        "        else:\n",
        "            self.credits[name] = score\n",
        "\n",
        "    def getMostCredits(self):\n",
        "        if not self.credits:\n",
        "            return set()\n",
        "        maxCredits = max(self.credits.values())\n",
        "        return {name for name, credits in self.credits.items() if credits == maxCredits}\n",
        "\n",
        "    def getAll(self):\n",
        "        return self.credits.copy()\n",
        "\n",
        "    def getCopy(self):\n",
        "        return CreditCounter(self.credits)\n",
        "\n",
        "def testCreditCounterClass():\n",
        "    print('Testing CreditCounter class...', end='')\n",
        "    # Create a CreditCounter with these initial counts\n",
        "    sb1 = CreditCounter({'Alice': 80, 'Bob': 42})\n",
        "    assert(sb1.getCredits('Alice') == 80)\n",
        "    assert(sb1.getCredits('Bob') == 42)\n",
        "    assert(sb1.getCredits('Chee') == None)\n",
        "    assert(sb1.getMostCredits() == {'Alice'})  # Set of names w/ the most credits\n",
        "    sb1.addScore('Bob', 40)  # Bob just earned 40 more credits!\n",
        "    assert(sb1.getCredits('Bob') == 82)  # Now he has 82 credits\n",
        "    assert(sb1.getMostCredits() == {'Bob'})  # Bob has 82, Alice has 80\n",
        "    sb1.addScore('Chee', 64)  # Chee wasn't there before, but now has 64 credits\n",
        "    assert(sb1.getCredits('Chee') == 64)\n",
        "    sb1.addScore('Chee', 18)\n",
        "    assert(sb1.getCredits('Chee') == 82)\n",
        "    assert(sb1.getMostCredits() == {'Bob', 'Chee'})  # Bob and Chee have 82\n",
        "    assert(sb1.getAll() == {'Alice': 80, 'Bob': 82, 'Chee': 82})\n",
        "    sb2 = sb1.getCopy()  # This is a copy of sb1, where changes to the copy\n",
        "    # do not affect the original, and vice versa\n",
        "    assert(sb2.getAll() == {'Alice': 80, 'Bob': 82, 'Chee': 82})\n",
        "    sb2.addScore('Alice', 10)  # Alice now has 90 in sb2, but still has 80 in sb1\n",
        "    assert(sb2.getMostCredits() == {'Alice'})\n",
        "    assert(sb1.getMostCredits() == {'Bob', 'Chee'})\n",
        "    print('Passed!')\n",
        "\n",
        "testCreditCounterClass()\n",
        "\n",
        "# Time Complexity:\n",
        "# Best Case: O(1) for getCredits, addScore, and getAll. O(n) for getMostCredits where n is the number of students.\n",
        "# Average Case: O(1) for getCredits, addScore, and getAll. O(n) for getMostCredits where n is the number of students.\n",
        "# Worst Case: O(1) for getCredits, addScore, and getAll. O(n) for getMostCredits where n is the number of students.\n",
        "\n",
        "# Space Complexity:\n",
        "# Best Case: O(1) for getCredits and addScore. O(n) for getAll and getMostCredits where n is the number of students.\n",
        "# Average Case: O(1) for getCredits and addScore. O(n) for getAll and getMostCredits where n is the number of students.\n",
        "# Worst Case: O(1) for getCredits and addScore. O(n) for getAll and getMostCredits where n is the number of students.\n"
      ],
      "metadata": {
        "colab": {
          "base_uri": "https://localhost:8080/"
        },
        "id": "xUpSmSra51eX",
        "outputId": "78ce5520-d55c-47cf-e2e1-97380a2844b8"
      },
      "execution_count": null,
      "outputs": [
        {
          "output_type": "stream",
          "name": "stdout",
          "text": [
            "Testing CreditCounter class...Passed!\n"
          ]
        }
      ]
    }
  ]
}